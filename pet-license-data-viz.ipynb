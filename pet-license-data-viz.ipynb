{
 "cells": [
  {
   "cell_type": "code",
   "execution_count": 1,
   "id": "89255ef1",
   "metadata": {
    "_cell_guid": "b1076dfc-b9ad-4769-8c92-a6c4dae69d19",
    "_uuid": "8f2839f25d086af736a60e9eeb907d3b93b6e0e5",
    "execution": {
     "iopub.execute_input": "2024-11-04T00:22:39.775070Z",
     "iopub.status.busy": "2024-11-04T00:22:39.774594Z",
     "iopub.status.idle": "2024-11-04T00:22:41.858077Z",
     "shell.execute_reply": "2024-11-04T00:22:41.856819Z"
    },
    "papermill": {
     "duration": 2.093744,
     "end_time": "2024-11-04T00:22:41.860959",
     "exception": false,
     "start_time": "2024-11-04T00:22:39.767215",
     "status": "completed"
    },
    "tags": []
   },
   "outputs": [],
   "source": [
    "import numpy as np\n",
    "import pandas as pd\n",
    "import plotly.express as px\n",
    "\n",
    "import geopandas as gpd\n",
    "import matplotlib.pyplot as plt\n",
    "\n",
    "from urllib.request import urlopen\n",
    "import json\n",
    "import requests"
   ]
  },
  {
   "cell_type": "code",
   "execution_count": 2,
   "id": "8f596047",
   "metadata": {
    "execution": {
     "iopub.execute_input": "2024-11-04T00:22:41.874514Z",
     "iopub.status.busy": "2024-11-04T00:22:41.873252Z",
     "iopub.status.idle": "2024-11-04T00:22:42.077765Z",
     "shell.execute_reply": "2024-11-04T00:22:42.075911Z"
    },
    "papermill": {
     "duration": 0.213912,
     "end_time": "2024-11-04T00:22:42.080465",
     "exception": false,
     "start_time": "2024-11-04T00:22:41.866553",
     "status": "completed"
    },
    "tags": []
   },
   "outputs": [
    {
     "name": "stdout",
     "output_type": "stream",
     "text": [
      "<class 'pandas.core.frame.DataFrame'>\n",
      "Index: 43683 entries, S107948 to 8056586\n",
      "Data columns (total 6 columns):\n",
      " #   Column              Non-Null Count  Dtype  \n",
      "---  ------              --------------  -----  \n",
      " 0   License Issue Date  43683 non-null  object \n",
      " 1   Animal's Name       43642 non-null  object \n",
      " 2   Species             43683 non-null  object \n",
      " 3   Primary Breed       43683 non-null  object \n",
      " 4   Secondary Breed     29506 non-null  object \n",
      " 5   ZIP Code            43558 non-null  float64\n",
      "dtypes: float64(1), object(5)\n",
      "memory usage: 2.3+ MB\n"
     ]
    }
   ],
   "source": [
    "data = pd.read_csv(\"/kaggle/input/active-seattle-pet-licenses-9-24-2024/Seattle_Pet_Licenses_20240924.csv\", index_col=\"License Number\")\n",
    "data.info()"
   ]
  },
  {
   "cell_type": "code",
   "execution_count": 3,
   "id": "f35371d8",
   "metadata": {
    "execution": {
     "iopub.execute_input": "2024-11-04T00:22:42.092577Z",
     "iopub.status.busy": "2024-11-04T00:22:42.092190Z",
     "iopub.status.idle": "2024-11-04T00:22:42.185600Z",
     "shell.execute_reply": "2024-11-04T00:22:42.184432Z"
    },
    "papermill": {
     "duration": 0.102369,
     "end_time": "2024-11-04T00:22:42.188163",
     "exception": false,
     "start_time": "2024-11-04T00:22:42.085794",
     "status": "completed"
    },
    "tags": []
   },
   "outputs": [
    {
     "data": {
      "text/html": [
       "<div>\n",
       "<style scoped>\n",
       "    .dataframe tbody tr th:only-of-type {\n",
       "        vertical-align: middle;\n",
       "    }\n",
       "\n",
       "    .dataframe tbody tr th {\n",
       "        vertical-align: top;\n",
       "    }\n",
       "\n",
       "    .dataframe thead th {\n",
       "        text-align: right;\n",
       "    }\n",
       "</style>\n",
       "<table border=\"1\" class=\"dataframe\">\n",
       "  <thead>\n",
       "    <tr style=\"text-align: right;\">\n",
       "      <th></th>\n",
       "      <th>License Issue Date</th>\n",
       "      <th>Animal's Name</th>\n",
       "      <th>Species</th>\n",
       "      <th>Primary Breed</th>\n",
       "      <th>Secondary Breed</th>\n",
       "      <th>ZIP Code</th>\n",
       "      <th>Year Issued</th>\n",
       "    </tr>\n",
       "    <tr>\n",
       "      <th>License Number</th>\n",
       "      <th></th>\n",
       "      <th></th>\n",
       "      <th></th>\n",
       "      <th></th>\n",
       "      <th></th>\n",
       "      <th></th>\n",
       "      <th></th>\n",
       "    </tr>\n",
       "  </thead>\n",
       "  <tbody>\n",
       "    <tr>\n",
       "      <th>S107948</th>\n",
       "      <td>December 18 2015</td>\n",
       "      <td>Zen</td>\n",
       "      <td>Cat</td>\n",
       "      <td>Domestic Longhair</td>\n",
       "      <td>Mix</td>\n",
       "      <td>98117</td>\n",
       "      <td>2015</td>\n",
       "    </tr>\n",
       "    <tr>\n",
       "      <th>S116503</th>\n",
       "      <td>June 14 2016</td>\n",
       "      <td>Misty</td>\n",
       "      <td>Cat</td>\n",
       "      <td>Siberian</td>\n",
       "      <td>Not Specified</td>\n",
       "      <td>98117</td>\n",
       "      <td>2016</td>\n",
       "    </tr>\n",
       "    <tr>\n",
       "      <th>S119301</th>\n",
       "      <td>August 04 2016</td>\n",
       "      <td>Lyra</td>\n",
       "      <td>Cat</td>\n",
       "      <td>Mix</td>\n",
       "      <td>Not Specified</td>\n",
       "      <td>98121</td>\n",
       "      <td>2016</td>\n",
       "    </tr>\n",
       "    <tr>\n",
       "      <th>962273</th>\n",
       "      <td>February 13 2019</td>\n",
       "      <td>Veronica</td>\n",
       "      <td>Cat</td>\n",
       "      <td>Domestic Longhair</td>\n",
       "      <td>Not Specified</td>\n",
       "      <td>98107</td>\n",
       "      <td>2019</td>\n",
       "    </tr>\n",
       "    <tr>\n",
       "      <th>S133113</th>\n",
       "      <td>August 10 2019</td>\n",
       "      <td>Spider</td>\n",
       "      <td>Cat</td>\n",
       "      <td>LaPerm</td>\n",
       "      <td>Not Specified</td>\n",
       "      <td>98115</td>\n",
       "      <td>2019</td>\n",
       "    </tr>\n",
       "    <tr>\n",
       "      <th>...</th>\n",
       "      <td>...</td>\n",
       "      <td>...</td>\n",
       "      <td>...</td>\n",
       "      <td>...</td>\n",
       "      <td>...</td>\n",
       "      <td>...</td>\n",
       "      <td>...</td>\n",
       "    </tr>\n",
       "    <tr>\n",
       "      <th>8019317</th>\n",
       "      <td>June 06 2022</td>\n",
       "      <td>Kona</td>\n",
       "      <td>Dog</td>\n",
       "      <td>Mixed Breed, Medium (up to 44 lbs fully grown)</td>\n",
       "      <td>Mix</td>\n",
       "      <td>98146</td>\n",
       "      <td>2022</td>\n",
       "    </tr>\n",
       "    <tr>\n",
       "      <th>8038882</th>\n",
       "      <td>June 10 2022</td>\n",
       "      <td>Whisky</td>\n",
       "      <td>Dog</td>\n",
       "      <td>Mixed Breed, Large (over 44 lbs fully grown)</td>\n",
       "      <td>Mix</td>\n",
       "      <td>98103</td>\n",
       "      <td>2022</td>\n",
       "    </tr>\n",
       "    <tr>\n",
       "      <th>8007589</th>\n",
       "      <td>June 22 2022</td>\n",
       "      <td>Maximus</td>\n",
       "      <td>Dog</td>\n",
       "      <td>Poodle, Standard</td>\n",
       "      <td>Mix</td>\n",
       "      <td>98126</td>\n",
       "      <td>2022</td>\n",
       "    </tr>\n",
       "    <tr>\n",
       "      <th>S134127</th>\n",
       "      <td>June 28 2022</td>\n",
       "      <td>Rocky</td>\n",
       "      <td>Dog</td>\n",
       "      <td>Chihuahua, Short Coat</td>\n",
       "      <td>Bichon Frise</td>\n",
       "      <td>98105</td>\n",
       "      <td>2022</td>\n",
       "    </tr>\n",
       "    <tr>\n",
       "      <th>444734</th>\n",
       "      <td>June 29 2022</td>\n",
       "      <td>Nico</td>\n",
       "      <td>Dog</td>\n",
       "      <td>Terrier, Fox, Wire</td>\n",
       "      <td>Not Specified</td>\n",
       "      <td>98177</td>\n",
       "      <td>2022</td>\n",
       "    </tr>\n",
       "  </tbody>\n",
       "</table>\n",
       "<p>944 rows × 7 columns</p>\n",
       "</div>"
      ],
      "text/plain": [
       "               License Issue Date Animal's Name Species  \\\n",
       "License Number                                            \n",
       "S107948          December 18 2015           Zen     Cat   \n",
       "S116503              June 14 2016         Misty     Cat   \n",
       "S119301            August 04 2016          Lyra     Cat   \n",
       "962273           February 13 2019      Veronica     Cat   \n",
       "S133113            August 10 2019        Spider     Cat   \n",
       "...                           ...           ...     ...   \n",
       "8019317              June 06 2022          Kona     Dog   \n",
       "8038882              June 10 2022        Whisky     Dog   \n",
       "8007589              June 22 2022       Maximus     Dog   \n",
       "S134127              June 28 2022         Rocky     Dog   \n",
       "444734               June 29 2022          Nico     Dog   \n",
       "\n",
       "                                                 Primary Breed  \\\n",
       "License Number                                                   \n",
       "S107948                                      Domestic Longhair   \n",
       "S116503                                               Siberian   \n",
       "S119301                                                    Mix   \n",
       "962273                                       Domestic Longhair   \n",
       "S133113                                                 LaPerm   \n",
       "...                                                        ...   \n",
       "8019317         Mixed Breed, Medium (up to 44 lbs fully grown)   \n",
       "8038882           Mixed Breed, Large (over 44 lbs fully grown)   \n",
       "8007589                                       Poodle, Standard   \n",
       "S134127                                  Chihuahua, Short Coat   \n",
       "444734                                      Terrier, Fox, Wire   \n",
       "\n",
       "               Secondary Breed  ZIP Code  Year Issued  \n",
       "License Number                                         \n",
       "S107948                    Mix     98117         2015  \n",
       "S116503          Not Specified     98117         2016  \n",
       "S119301          Not Specified     98121         2016  \n",
       "962273           Not Specified     98107         2019  \n",
       "S133113          Not Specified     98115         2019  \n",
       "...                        ...       ...          ...  \n",
       "8019317                    Mix     98146         2022  \n",
       "8038882                    Mix     98103         2022  \n",
       "8007589                    Mix     98126         2022  \n",
       "S134127           Bichon Frise     98105         2022  \n",
       "444734           Not Specified     98177         2022  \n",
       "\n",
       "[944 rows x 7 columns]"
      ]
     },
     "execution_count": 3,
     "metadata": {},
     "output_type": "execute_result"
    }
   ],
   "source": [
    "data['Year Issued'] = data['License Issue Date'].apply(lambda date: int(date.split(' ')[2]))\n",
    "data['ZIP Code'] = data['ZIP Code'].fillna(0).astype(int)\n",
    "data = data.drop_duplicates(subset=['License Issue Date'], keep='first')\n",
    "data = data.fillna(\"Not Specified\")\n",
    "data\n",
    "# data.nunique()"
   ]
  },
  {
   "cell_type": "markdown",
   "id": "4d9a4fd7",
   "metadata": {
    "papermill": {
     "duration": 0.005443,
     "end_time": "2024-11-04T00:22:42.199321",
     "exception": false,
     "start_time": "2024-11-04T00:22:42.193878",
     "status": "completed"
    },
    "tags": []
   },
   "source": [
    "* Seattle law covers animal registrations such as: potbelly pig, miniature goat, cat, and dog licenses, guard and attack dog licenses, and exotic animal permits.\n",
    "* Bulk of registrations happened post-2022."
   ]
  },
  {
   "cell_type": "code",
   "execution_count": 4,
   "id": "73ff7691",
   "metadata": {
    "execution": {
     "iopub.execute_input": "2024-11-04T00:22:42.212747Z",
     "iopub.status.busy": "2024-11-04T00:22:42.212326Z",
     "iopub.status.idle": "2024-11-04T00:22:44.228623Z",
     "shell.execute_reply": "2024-11-04T00:22:44.227397Z"
    },
    "papermill": {
     "duration": 2.026142,
     "end_time": "2024-11-04T00:22:44.231173",
     "exception": false,
     "start_time": "2024-11-04T00:22:42.205031",
     "status": "completed"
    },
    "tags": []
   },
   "outputs": [
    {
     "data": {
      "text/html": [
       "        <script type=\"text/javascript\">\n",
       "        window.PlotlyConfig = {MathJaxConfig: 'local'};\n",
       "        if (window.MathJax && window.MathJax.Hub && window.MathJax.Hub.Config) {window.MathJax.Hub.Config({SVG: {font: \"STIX-Web\"}});}\n",
       "        if (typeof require !== 'undefined') {\n",
       "        require.undef(\"plotly\");\n",
       "        requirejs.config({\n",
       "            paths: {\n",
       "                'plotly': ['https://cdn.plot.ly/plotly-2.32.0.min']\n",
       "            }\n",
       "        });\n",
       "        require(['plotly'], function(Plotly) {\n",
       "            window._Plotly = Plotly;\n",
       "        });\n",
       "        }\n",
       "        </script>\n",
       "        "
      ]
     },
     "metadata": {},
     "output_type": "display_data"
    },
    {
     "data": {
      "text/html": [
       "<div>                            <div id=\"1c85adf9-ced8-4ff1-9226-b176586be3a2\" class=\"plotly-graph-div\" style=\"height:350px; width:100%;\"></div>            <script type=\"text/javascript\">                require([\"plotly\"], function(Plotly) {                    window.PLOTLYENV=window.PLOTLYENV || {};                                    if (document.getElementById(\"1c85adf9-ced8-4ff1-9226-b176586be3a2\")) {                    Plotly.newPlot(                        \"1c85adf9-ced8-4ff1-9226-b176586be3a2\",                        [{\"alignmentgroup\":\"True\",\"bingroup\":\"x\",\"hovertemplate\":\"Year Issued=%{x}\\u003cbr\\u003ecount=%{y}\\u003cextra\\u003e\\u003c\\u002fextra\\u003e\",\"legendgroup\":\"\",\"marker\":{\"color\":\"#636efa\",\"pattern\":{\"shape\":\"\"}},\"name\":\"\",\"nbinsx\":20,\"offsetgroup\":\"\",\"orientation\":\"v\",\"showlegend\":false,\"texttemplate\":\"%{value}\",\"x\":[2015,2016,2016,2019,2019,2019,2020,2020,2020,2020,2020,2020,2020,2020,2021,2021,2021,2021,2021,2021,2021,2021,2021,2021,2021,2021,2021,2021,2021,2021,2021,2021,2021,2021,2021,2021,2021,2021,2021,2021,2021,2021,2021,2021,2022,2022,2022,2022,2022,2022,2022,2022,2022,2022,2022,2022,2022,2022,2022,2022,2022,2022,2022,2022,2022,2022,2022,2022,2022,2022,2022,2022,2022,2022,2022,2022,2022,2022,2022,2022,2022,2022,2022,2022,2022,2022,2022,2022,2022,2022,2022,2022,2022,2022,2022,2022,2022,2022,2022,2022,2022,2022,2022,2022,2022,2022,2022,2022,2022,2022,2022,2022,2022,2022,2022,2022,2022,2022,2022,2022,2022,2022,2022,2022,2022,2022,2022,2022,2022,2022,2022,2022,2022,2022,2022,2022,2022,2022,2022,2022,2022,2022,2022,2022,2022,2022,2022,2022,2022,2022,2022,2022,2022,2022,2022,2022,2022,2022,2022,2022,2022,2022,2022,2022,2022,2022,2022,2022,2022,2022,2022,2022,2022,2022,2022,2022,2022,2022,2022,2022,2022,2022,2022,2022,2022,2022,2022,2022,2022,2022,2022,2022,2022,2022,2022,2022,2022,2022,2022,2022,2022,2022,2022,2022,2022,2022,2022,2022,2022,2022,2022,2022,2022,2022,2022,2022,2022,2022,2022,2022,2022,2022,2022,2022,2022,2022,2022,2022,2022,2022,2022,2022,2022,2022,2022,2022,2022,2022,2022,2022,2022,2022,2022,2023,2023,2023,2023,2023,2023,2023,2023,2023,2023,2023,2023,2023,2023,2023,2023,2023,2023,2023,2023,2023,2023,2023,2023,2023,2023,2023,2023,2023,2023,2023,2023,2023,2023,2023,2023,2023,2023,2023,2023,2023,2023,2023,2023,2023,2023,2023,2023,2023,2023,2023,2023,2023,2023,2023,2023,2023,2023,2023,2023,2023,2023,2023,2023,2023,2023,2023,2023,2023,2023,2023,2023,2023,2023,2023,2023,2023,2023,2023,2023,2023,2023,2023,2023,2023,2023,2023,2023,2023,2023,2023,2023,2023,2023,2023,2023,2023,2023,2023,2023,2023,2023,2023,2023,2023,2023,2023,2023,2023,2023,2023,2023,2023,2023,2023,2023,2023,2023,2023,2023,2023,2023,2023,2023,2023,2023,2023,2023,2023,2023,2023,2023,2023,2023,2023,2023,2023,2023,2023,2023,2023,2023,2023,2023,2023,2023,2023,2023,2023,2023,2023,2023,2023,2023,2023,2023,2023,2023,2023,2023,2023,2023,2023,2023,2023,2023,2023,2023,2023,2023,2023,2023,2023,2023,2023,2023,2023,2023,2023,2023,2023,2023,2023,2023,2023,2023,2023,2023,2023,2023,2023,2023,2023,2023,2023,2023,2023,2023,2023,2023,2023,2023,2023,2023,2023,2023,2023,2023,2023,2023,2023,2023,2023,2023,2023,2023,2023,2023,2023,2023,2023,2023,2023,2023,2023,2023,2023,2023,2023,2023,2023,2023,2023,2023,2023,2023,2023,2023,2023,2023,2023,2023,2023,2023,2023,2023,2023,2023,2023,2023,2023,2023,2023,2023,2023,2023,2023,2023,2023,2023,2023,2023,2023,2023,2023,2023,2023,2023,2023,2023,2023,2023,2023,2023,2023,2023,2023,2023,2023,2023,2023,2023,2023,2023,2023,2023,2023,2023,2023,2023,2023,2023,2023,2023,2023,2023,2023,2023,2023,2023,2023,2023,2023,2023,2023,2023,2023,2023,2023,2023,2023,2023,2023,2023,2023,2023,2023,2023,2023,2023,2023,2023,2023,2023,2023,2023,2023,2023,2023,2023,2023,2023,2023,2023,2023,2023,2023,2023,2023,2023,2023,2023,2023,2023,2023,2023,2023,2023,2023,2023,2023,2023,2023,2023,2023,2023,2023,2023,2023,2023,2023,2023,2023,2023,2023,2024,2024,2024,2024,2024,2024,2024,2024,2024,2024,2024,2024,2024,2024,2024,2024,2024,2024,2024,2024,2024,2024,2024,2024,2024,2024,2024,2024,2024,2024,2024,2024,2024,2024,2024,2024,2024,2024,2024,2024,2024,2024,2024,2024,2024,2024,2024,2024,2024,2024,2024,2024,2024,2024,2024,2024,2024,2024,2024,2024,2024,2024,2024,2024,2024,2024,2024,2024,2024,2024,2024,2024,2024,2024,2024,2024,2024,2024,2024,2024,2024,2024,2024,2024,2024,2024,2024,2024,2024,2024,2024,2024,2024,2024,2024,2024,2024,2024,2024,2024,2024,2024,2024,2024,2024,2024,2024,2024,2024,2024,2024,2024,2024,2024,2024,2024,2024,2024,2024,2024,2024,2024,2024,2024,2024,2024,2024,2024,2024,2024,2024,2024,2024,2024,2024,2024,2024,2024,2024,2024,2024,2024,2024,2024,2024,2024,2024,2024,2024,2024,2024,2024,2024,2024,2024,2024,2024,2024,2024,2024,2024,2024,2024,2024,2024,2024,2024,2024,2024,2024,2024,2024,2024,2024,2024,2024,2024,2024,2024,2024,2024,2024,2024,2024,2024,2024,2024,2024,2024,2024,2024,2015,2016,2019,2019,2020,2020,2020,2020,2020,2020,2021,2021,2021,2021,2021,2021,2021,2021,2021,2021,2021,2021,2021,2021,2021,2021,2021,2021,2021,2021,2021,2021,2021,2021,2021,2021,2021,2021,2022,2022,2022,2022,2022,2022,2022,2022,2022,2022,2022,2022,2022,2022,2022,2022,2022,2022,2022,2022,2022,2022,2022,2022,2022,2022,2022,2022,2022,2022,2022,2022,2022,2022,2015,2016,2016,2016,2017,2019,2019,2020,2020,2020,2020,2020,2020,2020,2021,2021,2021,2021,2021,2021,2021,2021,2021,2021,2021,2021,2021,2021,2021,2021,2021,2021,2021,2021,2021,2021,2021,2021,2021,2021,2021,2022,2022,2022,2022,2022,2022,2022,2022,2022,2022,2022,2022,2022,2022,2022,2022,2022,2022,2022,2022,2022,2022,2022,2022,2022,2022,2022,2022,2022,2022,2022,2022],\"xaxis\":\"x\",\"yaxis\":\"y\",\"type\":\"histogram\"}],                        {\"template\":{\"data\":{\"histogram2dcontour\":[{\"type\":\"histogram2dcontour\",\"colorbar\":{\"outlinewidth\":0,\"ticks\":\"\"},\"colorscale\":[[0.0,\"#0d0887\"],[0.1111111111111111,\"#46039f\"],[0.2222222222222222,\"#7201a8\"],[0.3333333333333333,\"#9c179e\"],[0.4444444444444444,\"#bd3786\"],[0.5555555555555556,\"#d8576b\"],[0.6666666666666666,\"#ed7953\"],[0.7777777777777778,\"#fb9f3a\"],[0.8888888888888888,\"#fdca26\"],[1.0,\"#f0f921\"]]}],\"choropleth\":[{\"type\":\"choropleth\",\"colorbar\":{\"outlinewidth\":0,\"ticks\":\"\"}}],\"histogram2d\":[{\"type\":\"histogram2d\",\"colorbar\":{\"outlinewidth\":0,\"ticks\":\"\"},\"colorscale\":[[0.0,\"#0d0887\"],[0.1111111111111111,\"#46039f\"],[0.2222222222222222,\"#7201a8\"],[0.3333333333333333,\"#9c179e\"],[0.4444444444444444,\"#bd3786\"],[0.5555555555555556,\"#d8576b\"],[0.6666666666666666,\"#ed7953\"],[0.7777777777777778,\"#fb9f3a\"],[0.8888888888888888,\"#fdca26\"],[1.0,\"#f0f921\"]]}],\"heatmap\":[{\"type\":\"heatmap\",\"colorbar\":{\"outlinewidth\":0,\"ticks\":\"\"},\"colorscale\":[[0.0,\"#0d0887\"],[0.1111111111111111,\"#46039f\"],[0.2222222222222222,\"#7201a8\"],[0.3333333333333333,\"#9c179e\"],[0.4444444444444444,\"#bd3786\"],[0.5555555555555556,\"#d8576b\"],[0.6666666666666666,\"#ed7953\"],[0.7777777777777778,\"#fb9f3a\"],[0.8888888888888888,\"#fdca26\"],[1.0,\"#f0f921\"]]}],\"heatmapgl\":[{\"type\":\"heatmapgl\",\"colorbar\":{\"outlinewidth\":0,\"ticks\":\"\"},\"colorscale\":[[0.0,\"#0d0887\"],[0.1111111111111111,\"#46039f\"],[0.2222222222222222,\"#7201a8\"],[0.3333333333333333,\"#9c179e\"],[0.4444444444444444,\"#bd3786\"],[0.5555555555555556,\"#d8576b\"],[0.6666666666666666,\"#ed7953\"],[0.7777777777777778,\"#fb9f3a\"],[0.8888888888888888,\"#fdca26\"],[1.0,\"#f0f921\"]]}],\"contourcarpet\":[{\"type\":\"contourcarpet\",\"colorbar\":{\"outlinewidth\":0,\"ticks\":\"\"}}],\"contour\":[{\"type\":\"contour\",\"colorbar\":{\"outlinewidth\":0,\"ticks\":\"\"},\"colorscale\":[[0.0,\"#0d0887\"],[0.1111111111111111,\"#46039f\"],[0.2222222222222222,\"#7201a8\"],[0.3333333333333333,\"#9c179e\"],[0.4444444444444444,\"#bd3786\"],[0.5555555555555556,\"#d8576b\"],[0.6666666666666666,\"#ed7953\"],[0.7777777777777778,\"#fb9f3a\"],[0.8888888888888888,\"#fdca26\"],[1.0,\"#f0f921\"]]}],\"surface\":[{\"type\":\"surface\",\"colorbar\":{\"outlinewidth\":0,\"ticks\":\"\"},\"colorscale\":[[0.0,\"#0d0887\"],[0.1111111111111111,\"#46039f\"],[0.2222222222222222,\"#7201a8\"],[0.3333333333333333,\"#9c179e\"],[0.4444444444444444,\"#bd3786\"],[0.5555555555555556,\"#d8576b\"],[0.6666666666666666,\"#ed7953\"],[0.7777777777777778,\"#fb9f3a\"],[0.8888888888888888,\"#fdca26\"],[1.0,\"#f0f921\"]]}],\"mesh3d\":[{\"type\":\"mesh3d\",\"colorbar\":{\"outlinewidth\":0,\"ticks\":\"\"}}],\"scatter\":[{\"fillpattern\":{\"fillmode\":\"overlay\",\"size\":10,\"solidity\":0.2},\"type\":\"scatter\"}],\"parcoords\":[{\"type\":\"parcoords\",\"line\":{\"colorbar\":{\"outlinewidth\":0,\"ticks\":\"\"}}}],\"scatterpolargl\":[{\"type\":\"scatterpolargl\",\"marker\":{\"colorbar\":{\"outlinewidth\":0,\"ticks\":\"\"}}}],\"bar\":[{\"error_x\":{\"color\":\"#2a3f5f\"},\"error_y\":{\"color\":\"#2a3f5f\"},\"marker\":{\"line\":{\"color\":\"#E5ECF6\",\"width\":0.5},\"pattern\":{\"fillmode\":\"overlay\",\"size\":10,\"solidity\":0.2}},\"type\":\"bar\"}],\"scattergeo\":[{\"type\":\"scattergeo\",\"marker\":{\"colorbar\":{\"outlinewidth\":0,\"ticks\":\"\"}}}],\"scatterpolar\":[{\"type\":\"scatterpolar\",\"marker\":{\"colorbar\":{\"outlinewidth\":0,\"ticks\":\"\"}}}],\"histogram\":[{\"marker\":{\"pattern\":{\"fillmode\":\"overlay\",\"size\":10,\"solidity\":0.2}},\"type\":\"histogram\"}],\"scattergl\":[{\"type\":\"scattergl\",\"marker\":{\"colorbar\":{\"outlinewidth\":0,\"ticks\":\"\"}}}],\"scatter3d\":[{\"type\":\"scatter3d\",\"line\":{\"colorbar\":{\"outlinewidth\":0,\"ticks\":\"\"}},\"marker\":{\"colorbar\":{\"outlinewidth\":0,\"ticks\":\"\"}}}],\"scattermapbox\":[{\"type\":\"scattermapbox\",\"marker\":{\"colorbar\":{\"outlinewidth\":0,\"ticks\":\"\"}}}],\"scatterternary\":[{\"type\":\"scatterternary\",\"marker\":{\"colorbar\":{\"outlinewidth\":0,\"ticks\":\"\"}}}],\"scattercarpet\":[{\"type\":\"scattercarpet\",\"marker\":{\"colorbar\":{\"outlinewidth\":0,\"ticks\":\"\"}}}],\"carpet\":[{\"aaxis\":{\"endlinecolor\":\"#2a3f5f\",\"gridcolor\":\"white\",\"linecolor\":\"white\",\"minorgridcolor\":\"white\",\"startlinecolor\":\"#2a3f5f\"},\"baxis\":{\"endlinecolor\":\"#2a3f5f\",\"gridcolor\":\"white\",\"linecolor\":\"white\",\"minorgridcolor\":\"white\",\"startlinecolor\":\"#2a3f5f\"},\"type\":\"carpet\"}],\"table\":[{\"cells\":{\"fill\":{\"color\":\"#EBF0F8\"},\"line\":{\"color\":\"white\"}},\"header\":{\"fill\":{\"color\":\"#C8D4E3\"},\"line\":{\"color\":\"white\"}},\"type\":\"table\"}],\"barpolar\":[{\"marker\":{\"line\":{\"color\":\"#E5ECF6\",\"width\":0.5},\"pattern\":{\"fillmode\":\"overlay\",\"size\":10,\"solidity\":0.2}},\"type\":\"barpolar\"}],\"pie\":[{\"automargin\":true,\"type\":\"pie\"}]},\"layout\":{\"autotypenumbers\":\"strict\",\"colorway\":[\"#636efa\",\"#EF553B\",\"#00cc96\",\"#ab63fa\",\"#FFA15A\",\"#19d3f3\",\"#FF6692\",\"#B6E880\",\"#FF97FF\",\"#FECB52\"],\"font\":{\"color\":\"#2a3f5f\"},\"hovermode\":\"closest\",\"hoverlabel\":{\"align\":\"left\"},\"paper_bgcolor\":\"white\",\"plot_bgcolor\":\"#E5ECF6\",\"polar\":{\"bgcolor\":\"#E5ECF6\",\"angularaxis\":{\"gridcolor\":\"white\",\"linecolor\":\"white\",\"ticks\":\"\"},\"radialaxis\":{\"gridcolor\":\"white\",\"linecolor\":\"white\",\"ticks\":\"\"}},\"ternary\":{\"bgcolor\":\"#E5ECF6\",\"aaxis\":{\"gridcolor\":\"white\",\"linecolor\":\"white\",\"ticks\":\"\"},\"baxis\":{\"gridcolor\":\"white\",\"linecolor\":\"white\",\"ticks\":\"\"},\"caxis\":{\"gridcolor\":\"white\",\"linecolor\":\"white\",\"ticks\":\"\"}},\"coloraxis\":{\"colorbar\":{\"outlinewidth\":0,\"ticks\":\"\"}},\"colorscale\":{\"sequential\":[[0.0,\"#0d0887\"],[0.1111111111111111,\"#46039f\"],[0.2222222222222222,\"#7201a8\"],[0.3333333333333333,\"#9c179e\"],[0.4444444444444444,\"#bd3786\"],[0.5555555555555556,\"#d8576b\"],[0.6666666666666666,\"#ed7953\"],[0.7777777777777778,\"#fb9f3a\"],[0.8888888888888888,\"#fdca26\"],[1.0,\"#f0f921\"]],\"sequentialminus\":[[0.0,\"#0d0887\"],[0.1111111111111111,\"#46039f\"],[0.2222222222222222,\"#7201a8\"],[0.3333333333333333,\"#9c179e\"],[0.4444444444444444,\"#bd3786\"],[0.5555555555555556,\"#d8576b\"],[0.6666666666666666,\"#ed7953\"],[0.7777777777777778,\"#fb9f3a\"],[0.8888888888888888,\"#fdca26\"],[1.0,\"#f0f921\"]],\"diverging\":[[0,\"#8e0152\"],[0.1,\"#c51b7d\"],[0.2,\"#de77ae\"],[0.3,\"#f1b6da\"],[0.4,\"#fde0ef\"],[0.5,\"#f7f7f7\"],[0.6,\"#e6f5d0\"],[0.7,\"#b8e186\"],[0.8,\"#7fbc41\"],[0.9,\"#4d9221\"],[1,\"#276419\"]]},\"xaxis\":{\"gridcolor\":\"white\",\"linecolor\":\"white\",\"ticks\":\"\",\"title\":{\"standoff\":15},\"zerolinecolor\":\"white\",\"automargin\":true,\"zerolinewidth\":2},\"yaxis\":{\"gridcolor\":\"white\",\"linecolor\":\"white\",\"ticks\":\"\",\"title\":{\"standoff\":15},\"zerolinecolor\":\"white\",\"automargin\":true,\"zerolinewidth\":2},\"scene\":{\"xaxis\":{\"backgroundcolor\":\"#E5ECF6\",\"gridcolor\":\"white\",\"linecolor\":\"white\",\"showbackground\":true,\"ticks\":\"\",\"zerolinecolor\":\"white\",\"gridwidth\":2},\"yaxis\":{\"backgroundcolor\":\"#E5ECF6\",\"gridcolor\":\"white\",\"linecolor\":\"white\",\"showbackground\":true,\"ticks\":\"\",\"zerolinecolor\":\"white\",\"gridwidth\":2},\"zaxis\":{\"backgroundcolor\":\"#E5ECF6\",\"gridcolor\":\"white\",\"linecolor\":\"white\",\"showbackground\":true,\"ticks\":\"\",\"zerolinecolor\":\"white\",\"gridwidth\":2}},\"shapedefaults\":{\"line\":{\"color\":\"#2a3f5f\"}},\"annotationdefaults\":{\"arrowcolor\":\"#2a3f5f\",\"arrowhead\":0,\"arrowwidth\":1},\"geo\":{\"bgcolor\":\"white\",\"landcolor\":\"#E5ECF6\",\"subunitcolor\":\"white\",\"showland\":true,\"showlakes\":true,\"lakecolor\":\"white\"},\"title\":{\"x\":0.05},\"mapbox\":{\"style\":\"light\"}}},\"xaxis\":{\"anchor\":\"y\",\"domain\":[0.0,1.0],\"title\":{\"text\":\"Year Issued\"}},\"yaxis\":{\"anchor\":\"x\",\"domain\":[0.0,1.0],\"title\":{\"text\":\"count\"}},\"legend\":{\"tracegroupgap\":0},\"title\":{\"text\":\"Yearly Pet Registration\"},\"barmode\":\"relative\",\"height\":350},                        {\"responsive\": true}                    ).then(function(){\n",
       "                            \n",
       "var gd = document.getElementById('1c85adf9-ced8-4ff1-9226-b176586be3a2');\n",
       "var x = new MutationObserver(function (mutations, observer) {{\n",
       "        var display = window.getComputedStyle(gd).display;\n",
       "        if (!display || display === 'none') {{\n",
       "            console.log([gd, 'removed!']);\n",
       "            Plotly.purge(gd);\n",
       "            observer.disconnect();\n",
       "        }}\n",
       "}});\n",
       "\n",
       "// Listen for the removal of the full notebook cells\n",
       "var notebookContainer = gd.closest('#notebook-container');\n",
       "if (notebookContainer) {{\n",
       "    x.observe(notebookContainer, {childList: true});\n",
       "}}\n",
       "\n",
       "// Listen for the clearing of the current output cell\n",
       "var outputEl = gd.closest('.output');\n",
       "if (outputEl) {{\n",
       "    x.observe(outputEl, {childList: true});\n",
       "}}\n",
       "\n",
       "                        })                };                });            </script>        </div>"
      ]
     },
     "metadata": {},
     "output_type": "display_data"
    }
   ],
   "source": [
    "fig = px.histogram(data,'Year Issued', nbins=20, text_auto=True, height=350, title=\"Yearly Pet Registration\")\n",
    "fig.show()"
   ]
  },
  {
   "cell_type": "markdown",
   "id": "883c4c45",
   "metadata": {
    "papermill": {
     "duration": 0.005902,
     "end_time": "2024-11-04T00:22:44.243401",
     "exception": false,
     "start_time": "2024-11-04T00:22:44.237499",
     "status": "completed"
    },
    "tags": []
   },
   "source": [
    "* Names for cats and dogs were very similar for the top five.\n",
    "* Frequency of names for goats and pigs were all 1, as there were very few samples of those species to begin with."
   ]
  },
  {
   "cell_type": "code",
   "execution_count": 5,
   "id": "71a19d82",
   "metadata": {
    "execution": {
     "iopub.execute_input": "2024-11-04T00:22:44.257658Z",
     "iopub.status.busy": "2024-11-04T00:22:44.257270Z",
     "iopub.status.idle": "2024-11-04T00:22:44.397157Z",
     "shell.execute_reply": "2024-11-04T00:22:44.395875Z"
    },
    "papermill": {
     "duration": 0.149989,
     "end_time": "2024-11-04T00:22:44.399644",
     "exception": false,
     "start_time": "2024-11-04T00:22:44.249655",
     "status": "completed"
    },
    "tags": []
   },
   "outputs": [
    {
     "data": {
      "text/html": [
       "<div>                            <div id=\"07952f20-808c-44e9-8b2f-a37ad3584b0a\" class=\"plotly-graph-div\" style=\"height:500px; width:100%;\"></div>            <script type=\"text/javascript\">                require([\"plotly\"], function(Plotly) {                    window.PLOTLYENV=window.PLOTLYENV || {};                                    if (document.getElementById(\"07952f20-808c-44e9-8b2f-a37ad3584b0a\")) {                    Plotly.newPlot(                        \"07952f20-808c-44e9-8b2f-a37ad3584b0a\",                        [{\"alignmentgroup\":\"True\",\"bingroup\":\"x\",\"hovertemplate\":\"Species=Cat\\u003cbr\\u003eYear Issued=%{x}\\u003cbr\\u003ecount=%{y}\\u003cextra\\u003e\\u003c\\u002fextra\\u003e\",\"legendgroup\":\"\",\"marker\":{\"color\":\"#636efa\",\"pattern\":{\"shape\":\"\"}},\"name\":\"\",\"nbinsx\":10,\"offsetgroup\":\"\",\"orientation\":\"v\",\"showlegend\":false,\"texttemplate\":\"%{value}\",\"x\":[2015,2016,2016,2019,2019,2019,2020,2020,2020,2020,2020,2020,2020,2020,2021,2021,2021,2021,2021,2021,2021,2021,2021,2021,2021,2021,2021,2021,2021,2021,2021,2021,2021,2021,2021,2021,2021,2021,2021,2021,2021,2021,2021,2021,2022,2022,2022,2022,2022,2022,2022,2022,2022,2022,2022,2022,2022,2022,2022,2022,2022,2022,2022,2022,2022,2022,2022,2022,2022,2022,2022,2022,2022,2022,2022,2022,2022,2022,2022,2022,2022,2022,2022,2022,2022,2022,2022,2022,2022,2022,2022,2022,2022,2022,2022,2022,2022,2022,2022,2022,2022,2022,2022,2022,2022,2022,2022,2022,2022,2022,2022,2022,2022,2022,2022,2022,2022,2022,2022,2022,2022,2022,2022,2022,2022,2022,2022,2022,2022,2022,2022,2022,2022,2022,2022,2022,2022,2022,2022,2022,2022,2022,2022,2022,2022,2022,2022,2022,2022,2022,2022,2022,2022,2022,2022,2022,2022,2022,2022,2022,2022,2022,2022,2022,2022,2022,2022,2022,2022,2022,2022,2022,2022,2022,2022,2022,2022,2022,2022,2022,2022,2022,2022,2022,2022,2022,2022,2022,2022,2022,2022,2022,2022,2022,2022,2022,2022,2022,2022,2022,2022,2022,2022,2022,2022,2022,2022,2022,2022,2022,2022,2022,2022,2022,2022,2022,2022,2022,2022,2022,2022,2022,2022,2022,2022,2022,2022,2022,2022,2022,2022,2022,2022,2022,2022,2022,2022,2022,2022,2022,2022,2022,2022,2023,2023,2023,2023,2023,2023,2023,2023,2023,2023,2023,2023,2023,2023,2023,2023,2023,2023,2023,2023,2023,2023,2023,2023,2023,2023,2023,2023,2023,2023,2023,2023,2023,2023,2023,2023,2023,2023,2023,2023,2023,2023,2023,2023,2023,2023,2023,2023,2023,2023,2023,2023,2023,2023,2023,2023,2023,2023,2023,2023,2023,2023,2023,2023,2023,2023,2023,2023,2023,2023,2023,2023,2023,2023,2023,2023,2023,2023,2023,2023,2023,2023,2023,2023,2023,2023,2023,2023,2023,2023,2023,2023,2023,2023,2023,2023,2023,2023,2023,2023,2023,2023,2023,2023,2023,2023,2023,2023,2023,2023,2023,2023,2023,2023,2023,2023,2023,2023,2023,2023,2023,2023,2023,2023,2023,2023,2023,2023,2023,2023,2023,2023,2023,2023,2023,2023,2023,2023,2023,2023,2023,2023,2023,2023,2023,2023,2023,2023,2023,2023,2023,2023,2023,2023,2023,2023,2023,2023,2023,2023,2023,2023,2023,2023,2023,2023,2023,2023,2023,2023,2023,2023,2023,2023,2023,2023,2023,2023,2023,2023,2023,2023,2023,2023,2023,2023,2023,2023,2023,2023,2023,2023,2023,2023,2023,2023,2023,2023,2023,2023,2023,2023,2023,2023,2023,2023,2023,2023,2023,2023,2023,2023,2023,2023,2023,2023,2023,2023,2023,2023,2023,2023,2023,2023,2023,2023,2023,2023,2023,2023,2023,2023,2023,2023,2023,2023,2023,2023,2023,2023,2023,2023,2023,2023,2023,2023,2023,2023,2023,2023,2023,2023,2023,2023,2023,2023,2023,2023,2023,2023,2023,2023,2023,2023,2023,2023,2023,2023,2023,2023,2023,2023,2023,2023,2023,2023,2023,2023,2023,2023,2023,2023,2023,2023,2023,2023,2023,2023,2023,2023,2023,2023,2023,2023,2023,2023,2023,2023,2023,2023,2023,2023,2023,2023,2023,2023,2023,2023,2023,2023,2023,2023,2023,2023,2023,2023,2023,2023,2023,2023,2023,2023,2023,2023,2023,2023,2023,2023,2023,2023,2023,2023,2023,2023,2023,2023,2023,2023,2023,2023,2023,2023,2023,2023,2023,2023,2023,2023,2023,2023,2023,2023,2023,2023,2023,2023,2023,2023,2023,2023,2023,2023,2023,2023,2024,2024,2024,2024,2024,2024,2024,2024,2024,2024,2024,2024,2024,2024,2024,2024,2024,2024,2024,2024,2024,2024,2024,2024,2024,2024,2024,2024,2024,2024,2024,2024,2024,2024,2024,2024,2024,2024,2024,2024,2024,2024,2024,2024,2024,2024,2024,2024,2024,2024,2024,2024,2024,2024,2024,2024,2024,2024,2024,2024,2024,2024,2024,2024,2024,2024,2024,2024,2024,2024,2024,2024,2024,2024,2024,2024,2024,2024,2024,2024,2024,2024,2024,2024,2024,2024,2024,2024,2024,2024,2024,2024,2024,2024,2024,2024,2024,2024,2024,2024,2024,2024,2024,2024,2024,2024,2024,2024,2024,2024,2024,2024,2024,2024,2024,2024,2024,2024,2024,2024,2024,2024,2024,2024,2024,2024,2024,2024,2024,2024,2024,2024,2024,2024,2024,2024,2024,2024,2024,2024,2024,2024,2024,2024,2024,2024,2024,2024,2024,2024,2024,2024,2024,2024,2024,2024,2024,2024,2024,2024,2024,2024,2024,2024,2024,2024,2024,2024,2024,2024,2024,2024,2024,2024,2024,2024,2024,2024,2024,2024,2024,2024,2024,2024,2024,2024,2024,2024,2024,2024,2024],\"xaxis\":\"x3\",\"yaxis\":\"y3\",\"type\":\"histogram\"},{\"alignmentgroup\":\"True\",\"bingroup\":\"x\",\"hovertemplate\":\"Species=Goat\\u003cbr\\u003eYear Issued=%{x}\\u003cbr\\u003ecount=%{y}\\u003cextra\\u003e\\u003c\\u002fextra\\u003e\",\"legendgroup\":\"\",\"marker\":{\"color\":\"#636efa\",\"pattern\":{\"shape\":\"\"}},\"name\":\"\",\"nbinsx\":10,\"offsetgroup\":\"\",\"orientation\":\"v\",\"showlegend\":false,\"texttemplate\":\"%{value}\",\"x\":[2023],\"xaxis\":\"x4\",\"yaxis\":\"y4\",\"type\":\"histogram\"},{\"alignmentgroup\":\"True\",\"bingroup\":\"x\",\"hovertemplate\":\"Species=Dog\\u003cbr\\u003eYear Issued=%{x}\\u003cbr\\u003ecount=%{y}\\u003cextra\\u003e\\u003c\\u002fextra\\u003e\",\"legendgroup\":\"\",\"marker\":{\"color\":\"#636efa\",\"pattern\":{\"shape\":\"\"}},\"name\":\"\",\"nbinsx\":10,\"offsetgroup\":\"\",\"orientation\":\"v\",\"showlegend\":false,\"texttemplate\":\"%{value}\",\"x\":[2015,2016,2019,2019,2020,2020,2020,2020,2020,2020,2021,2021,2021,2021,2021,2021,2021,2021,2021,2021,2021,2021,2021,2021,2021,2021,2021,2021,2021,2021,2021,2021,2021,2021,2021,2021,2021,2021,2022,2022,2022,2022,2022,2022,2022,2022,2022,2022,2022,2022,2022,2022,2022,2022,2022,2022,2022,2022,2022,2022,2022,2022,2022,2022,2022,2022,2022,2022,2022,2022,2022,2022,2015,2016,2016,2016,2017,2019,2019,2020,2020,2020,2020,2020,2020,2020,2021,2021,2021,2021,2021,2021,2021,2021,2021,2021,2021,2021,2021,2021,2021,2021,2021,2021,2021,2021,2021,2021,2021,2021,2021,2021,2021,2022,2022,2022,2022,2022,2022,2022,2022,2022,2022,2022,2022,2022,2022,2022,2022,2022,2022,2022,2022,2022,2022,2022,2022,2022,2022,2022,2022,2022,2022,2022,2022],\"xaxis\":\"x\",\"yaxis\":\"y\",\"type\":\"histogram\"}],                        {\"template\":{\"data\":{\"histogram2dcontour\":[{\"type\":\"histogram2dcontour\",\"colorbar\":{\"outlinewidth\":0,\"ticks\":\"\"},\"colorscale\":[[0.0,\"#0d0887\"],[0.1111111111111111,\"#46039f\"],[0.2222222222222222,\"#7201a8\"],[0.3333333333333333,\"#9c179e\"],[0.4444444444444444,\"#bd3786\"],[0.5555555555555556,\"#d8576b\"],[0.6666666666666666,\"#ed7953\"],[0.7777777777777778,\"#fb9f3a\"],[0.8888888888888888,\"#fdca26\"],[1.0,\"#f0f921\"]]}],\"choropleth\":[{\"type\":\"choropleth\",\"colorbar\":{\"outlinewidth\":0,\"ticks\":\"\"}}],\"histogram2d\":[{\"type\":\"histogram2d\",\"colorbar\":{\"outlinewidth\":0,\"ticks\":\"\"},\"colorscale\":[[0.0,\"#0d0887\"],[0.1111111111111111,\"#46039f\"],[0.2222222222222222,\"#7201a8\"],[0.3333333333333333,\"#9c179e\"],[0.4444444444444444,\"#bd3786\"],[0.5555555555555556,\"#d8576b\"],[0.6666666666666666,\"#ed7953\"],[0.7777777777777778,\"#fb9f3a\"],[0.8888888888888888,\"#fdca26\"],[1.0,\"#f0f921\"]]}],\"heatmap\":[{\"type\":\"heatmap\",\"colorbar\":{\"outlinewidth\":0,\"ticks\":\"\"},\"colorscale\":[[0.0,\"#0d0887\"],[0.1111111111111111,\"#46039f\"],[0.2222222222222222,\"#7201a8\"],[0.3333333333333333,\"#9c179e\"],[0.4444444444444444,\"#bd3786\"],[0.5555555555555556,\"#d8576b\"],[0.6666666666666666,\"#ed7953\"],[0.7777777777777778,\"#fb9f3a\"],[0.8888888888888888,\"#fdca26\"],[1.0,\"#f0f921\"]]}],\"heatmapgl\":[{\"type\":\"heatmapgl\",\"colorbar\":{\"outlinewidth\":0,\"ticks\":\"\"},\"colorscale\":[[0.0,\"#0d0887\"],[0.1111111111111111,\"#46039f\"],[0.2222222222222222,\"#7201a8\"],[0.3333333333333333,\"#9c179e\"],[0.4444444444444444,\"#bd3786\"],[0.5555555555555556,\"#d8576b\"],[0.6666666666666666,\"#ed7953\"],[0.7777777777777778,\"#fb9f3a\"],[0.8888888888888888,\"#fdca26\"],[1.0,\"#f0f921\"]]}],\"contourcarpet\":[{\"type\":\"contourcarpet\",\"colorbar\":{\"outlinewidth\":0,\"ticks\":\"\"}}],\"contour\":[{\"type\":\"contour\",\"colorbar\":{\"outlinewidth\":0,\"ticks\":\"\"},\"colorscale\":[[0.0,\"#0d0887\"],[0.1111111111111111,\"#46039f\"],[0.2222222222222222,\"#7201a8\"],[0.3333333333333333,\"#9c179e\"],[0.4444444444444444,\"#bd3786\"],[0.5555555555555556,\"#d8576b\"],[0.6666666666666666,\"#ed7953\"],[0.7777777777777778,\"#fb9f3a\"],[0.8888888888888888,\"#fdca26\"],[1.0,\"#f0f921\"]]}],\"surface\":[{\"type\":\"surface\",\"colorbar\":{\"outlinewidth\":0,\"ticks\":\"\"},\"colorscale\":[[0.0,\"#0d0887\"],[0.1111111111111111,\"#46039f\"],[0.2222222222222222,\"#7201a8\"],[0.3333333333333333,\"#9c179e\"],[0.4444444444444444,\"#bd3786\"],[0.5555555555555556,\"#d8576b\"],[0.6666666666666666,\"#ed7953\"],[0.7777777777777778,\"#fb9f3a\"],[0.8888888888888888,\"#fdca26\"],[1.0,\"#f0f921\"]]}],\"mesh3d\":[{\"type\":\"mesh3d\",\"colorbar\":{\"outlinewidth\":0,\"ticks\":\"\"}}],\"scatter\":[{\"fillpattern\":{\"fillmode\":\"overlay\",\"size\":10,\"solidity\":0.2},\"type\":\"scatter\"}],\"parcoords\":[{\"type\":\"parcoords\",\"line\":{\"colorbar\":{\"outlinewidth\":0,\"ticks\":\"\"}}}],\"scatterpolargl\":[{\"type\":\"scatterpolargl\",\"marker\":{\"colorbar\":{\"outlinewidth\":0,\"ticks\":\"\"}}}],\"bar\":[{\"error_x\":{\"color\":\"#2a3f5f\"},\"error_y\":{\"color\":\"#2a3f5f\"},\"marker\":{\"line\":{\"color\":\"#E5ECF6\",\"width\":0.5},\"pattern\":{\"fillmode\":\"overlay\",\"size\":10,\"solidity\":0.2}},\"type\":\"bar\"}],\"scattergeo\":[{\"type\":\"scattergeo\",\"marker\":{\"colorbar\":{\"outlinewidth\":0,\"ticks\":\"\"}}}],\"scatterpolar\":[{\"type\":\"scatterpolar\",\"marker\":{\"colorbar\":{\"outlinewidth\":0,\"ticks\":\"\"}}}],\"histogram\":[{\"marker\":{\"pattern\":{\"fillmode\":\"overlay\",\"size\":10,\"solidity\":0.2}},\"type\":\"histogram\"}],\"scattergl\":[{\"type\":\"scattergl\",\"marker\":{\"colorbar\":{\"outlinewidth\":0,\"ticks\":\"\"}}}],\"scatter3d\":[{\"type\":\"scatter3d\",\"line\":{\"colorbar\":{\"outlinewidth\":0,\"ticks\":\"\"}},\"marker\":{\"colorbar\":{\"outlinewidth\":0,\"ticks\":\"\"}}}],\"scattermapbox\":[{\"type\":\"scattermapbox\",\"marker\":{\"colorbar\":{\"outlinewidth\":0,\"ticks\":\"\"}}}],\"scatterternary\":[{\"type\":\"scatterternary\",\"marker\":{\"colorbar\":{\"outlinewidth\":0,\"ticks\":\"\"}}}],\"scattercarpet\":[{\"type\":\"scattercarpet\",\"marker\":{\"colorbar\":{\"outlinewidth\":0,\"ticks\":\"\"}}}],\"carpet\":[{\"aaxis\":{\"endlinecolor\":\"#2a3f5f\",\"gridcolor\":\"white\",\"linecolor\":\"white\",\"minorgridcolor\":\"white\",\"startlinecolor\":\"#2a3f5f\"},\"baxis\":{\"endlinecolor\":\"#2a3f5f\",\"gridcolor\":\"white\",\"linecolor\":\"white\",\"minorgridcolor\":\"white\",\"startlinecolor\":\"#2a3f5f\"},\"type\":\"carpet\"}],\"table\":[{\"cells\":{\"fill\":{\"color\":\"#EBF0F8\"},\"line\":{\"color\":\"white\"}},\"header\":{\"fill\":{\"color\":\"#C8D4E3\"},\"line\":{\"color\":\"white\"}},\"type\":\"table\"}],\"barpolar\":[{\"marker\":{\"line\":{\"color\":\"#E5ECF6\",\"width\":0.5},\"pattern\":{\"fillmode\":\"overlay\",\"size\":10,\"solidity\":0.2}},\"type\":\"barpolar\"}],\"pie\":[{\"automargin\":true,\"type\":\"pie\"}]},\"layout\":{\"autotypenumbers\":\"strict\",\"colorway\":[\"#636efa\",\"#EF553B\",\"#00cc96\",\"#ab63fa\",\"#FFA15A\",\"#19d3f3\",\"#FF6692\",\"#B6E880\",\"#FF97FF\",\"#FECB52\"],\"font\":{\"color\":\"#2a3f5f\"},\"hovermode\":\"closest\",\"hoverlabel\":{\"align\":\"left\"},\"paper_bgcolor\":\"white\",\"plot_bgcolor\":\"#E5ECF6\",\"polar\":{\"bgcolor\":\"#E5ECF6\",\"angularaxis\":{\"gridcolor\":\"white\",\"linecolor\":\"white\",\"ticks\":\"\"},\"radialaxis\":{\"gridcolor\":\"white\",\"linecolor\":\"white\",\"ticks\":\"\"}},\"ternary\":{\"bgcolor\":\"#E5ECF6\",\"aaxis\":{\"gridcolor\":\"white\",\"linecolor\":\"white\",\"ticks\":\"\"},\"baxis\":{\"gridcolor\":\"white\",\"linecolor\":\"white\",\"ticks\":\"\"},\"caxis\":{\"gridcolor\":\"white\",\"linecolor\":\"white\",\"ticks\":\"\"}},\"coloraxis\":{\"colorbar\":{\"outlinewidth\":0,\"ticks\":\"\"}},\"colorscale\":{\"sequential\":[[0.0,\"#0d0887\"],[0.1111111111111111,\"#46039f\"],[0.2222222222222222,\"#7201a8\"],[0.3333333333333333,\"#9c179e\"],[0.4444444444444444,\"#bd3786\"],[0.5555555555555556,\"#d8576b\"],[0.6666666666666666,\"#ed7953\"],[0.7777777777777778,\"#fb9f3a\"],[0.8888888888888888,\"#fdca26\"],[1.0,\"#f0f921\"]],\"sequentialminus\":[[0.0,\"#0d0887\"],[0.1111111111111111,\"#46039f\"],[0.2222222222222222,\"#7201a8\"],[0.3333333333333333,\"#9c179e\"],[0.4444444444444444,\"#bd3786\"],[0.5555555555555556,\"#d8576b\"],[0.6666666666666666,\"#ed7953\"],[0.7777777777777778,\"#fb9f3a\"],[0.8888888888888888,\"#fdca26\"],[1.0,\"#f0f921\"]],\"diverging\":[[0,\"#8e0152\"],[0.1,\"#c51b7d\"],[0.2,\"#de77ae\"],[0.3,\"#f1b6da\"],[0.4,\"#fde0ef\"],[0.5,\"#f7f7f7\"],[0.6,\"#e6f5d0\"],[0.7,\"#b8e186\"],[0.8,\"#7fbc41\"],[0.9,\"#4d9221\"],[1,\"#276419\"]]},\"xaxis\":{\"gridcolor\":\"white\",\"linecolor\":\"white\",\"ticks\":\"\",\"title\":{\"standoff\":15},\"zerolinecolor\":\"white\",\"automargin\":true,\"zerolinewidth\":2},\"yaxis\":{\"gridcolor\":\"white\",\"linecolor\":\"white\",\"ticks\":\"\",\"title\":{\"standoff\":15},\"zerolinecolor\":\"white\",\"automargin\":true,\"zerolinewidth\":2},\"scene\":{\"xaxis\":{\"backgroundcolor\":\"#E5ECF6\",\"gridcolor\":\"white\",\"linecolor\":\"white\",\"showbackground\":true,\"ticks\":\"\",\"zerolinecolor\":\"white\",\"gridwidth\":2},\"yaxis\":{\"backgroundcolor\":\"#E5ECF6\",\"gridcolor\":\"white\",\"linecolor\":\"white\",\"showbackground\":true,\"ticks\":\"\",\"zerolinecolor\":\"white\",\"gridwidth\":2},\"zaxis\":{\"backgroundcolor\":\"#E5ECF6\",\"gridcolor\":\"white\",\"linecolor\":\"white\",\"showbackground\":true,\"ticks\":\"\",\"zerolinecolor\":\"white\",\"gridwidth\":2}},\"shapedefaults\":{\"line\":{\"color\":\"#2a3f5f\"}},\"annotationdefaults\":{\"arrowcolor\":\"#2a3f5f\",\"arrowhead\":0,\"arrowwidth\":1},\"geo\":{\"bgcolor\":\"white\",\"landcolor\":\"#E5ECF6\",\"subunitcolor\":\"white\",\"showland\":true,\"showlakes\":true,\"lakecolor\":\"white\"},\"title\":{\"x\":0.05},\"mapbox\":{\"style\":\"light\"}}},\"xaxis\":{\"anchor\":\"y\",\"domain\":[0.0,0.49],\"title\":{\"text\":\"Year Issued\"}},\"yaxis\":{\"anchor\":\"x\",\"domain\":[0.0,0.46499999999999997],\"title\":{\"text\":\"count\"}},\"xaxis2\":{\"anchor\":\"y2\",\"domain\":[0.51,1.0],\"matches\":\"x\",\"title\":{\"text\":\"Year Issued\"}},\"yaxis2\":{\"anchor\":\"x2\",\"domain\":[0.0,0.46499999999999997],\"matches\":\"y\",\"showticklabels\":false},\"xaxis3\":{\"anchor\":\"y3\",\"domain\":[0.0,0.49],\"matches\":\"x\",\"showticklabels\":false},\"yaxis3\":{\"anchor\":\"x3\",\"domain\":[0.5349999999999999,0.9999999999999999],\"matches\":\"y\",\"title\":{\"text\":\"count\"}},\"xaxis4\":{\"anchor\":\"y4\",\"domain\":[0.51,1.0],\"matches\":\"x\",\"showticklabels\":false},\"yaxis4\":{\"anchor\":\"x4\",\"domain\":[0.5349999999999999,0.9999999999999999],\"matches\":\"y\",\"showticklabels\":false},\"annotations\":[{\"font\":{},\"showarrow\":false,\"text\":\"Species=Dog\",\"x\":0.245,\"xanchor\":\"center\",\"xref\":\"paper\",\"y\":0.46499999999999997,\"yanchor\":\"bottom\",\"yref\":\"paper\"},{\"font\":{},\"showarrow\":false,\"text\":\"Species=Cat\",\"x\":0.245,\"xanchor\":\"center\",\"xref\":\"paper\",\"y\":0.9999999999999999,\"yanchor\":\"bottom\",\"yref\":\"paper\"},{\"font\":{},\"showarrow\":false,\"text\":\"Species=Goat\",\"x\":0.755,\"xanchor\":\"center\",\"xref\":\"paper\",\"y\":0.9999999999999999,\"yanchor\":\"bottom\",\"yref\":\"paper\"}],\"legend\":{\"tracegroupgap\":0},\"title\":{\"text\":\"Yearly Pet Registration by Species\"},\"barmode\":\"relative\",\"height\":500},                        {\"responsive\": true}                    ).then(function(){\n",
       "                            \n",
       "var gd = document.getElementById('07952f20-808c-44e9-8b2f-a37ad3584b0a');\n",
       "var x = new MutationObserver(function (mutations, observer) {{\n",
       "        var display = window.getComputedStyle(gd).display;\n",
       "        if (!display || display === 'none') {{\n",
       "            console.log([gd, 'removed!']);\n",
       "            Plotly.purge(gd);\n",
       "            observer.disconnect();\n",
       "        }}\n",
       "}});\n",
       "\n",
       "// Listen for the removal of the full notebook cells\n",
       "var notebookContainer = gd.closest('#notebook-container');\n",
       "if (notebookContainer) {{\n",
       "    x.observe(notebookContainer, {childList: true});\n",
       "}}\n",
       "\n",
       "// Listen for the clearing of the current output cell\n",
       "var outputEl = gd.closest('.output');\n",
       "if (outputEl) {{\n",
       "    x.observe(outputEl, {childList: true});\n",
       "}}\n",
       "\n",
       "                        })                };                });            </script>        </div>"
      ]
     },
     "metadata": {},
     "output_type": "display_data"
    }
   ],
   "source": [
    "fig = px.histogram(data, x='Year Issued', facet_col='Species', facet_col_wrap=2, height=500,\n",
    "             nbins=10, text_auto=True, title=\"Yearly Pet Registration by Species\")\n",
    "fig.show()"
   ]
  },
  {
   "cell_type": "code",
   "execution_count": 6,
   "id": "e912ed06",
   "metadata": {
    "execution": {
     "iopub.execute_input": "2024-11-04T00:22:44.414415Z",
     "iopub.status.busy": "2024-11-04T00:22:44.414050Z",
     "iopub.status.idle": "2024-11-04T00:22:44.431711Z",
     "shell.execute_reply": "2024-11-04T00:22:44.430302Z"
    },
    "papermill": {
     "duration": 0.027925,
     "end_time": "2024-11-04T00:22:44.434138",
     "exception": false,
     "start_time": "2024-11-04T00:22:44.406213",
     "status": "completed"
    },
    "tags": []
   },
   "outputs": [
    {
     "name": "stdout",
     "output_type": "stream",
     "text": [
      "Goat Names: ['Abelard']\n",
      "\n",
      "Pig Names: []\n"
     ]
    }
   ],
   "source": [
    "# Text output showing most popular animal name by species type\n",
    "breed_count = pd.DataFrame(data.groupby(['Species', \"Animal's Name\"])[\"ZIP Code\"].count().rename('Count'))\n",
    "breed_count = breed_count.reset_index(level=[0,1])\n",
    "\n",
    "print(\"Goat Names:\", breed_count[breed_count.Species == \"Goat\"][\"Animal's Name\"].unique())\n",
    "print(\"\\nPig Names:\", breed_count[breed_count.Species == \"Pig\"][\"Animal's Name\"].unique())"
   ]
  },
  {
   "cell_type": "code",
   "execution_count": 7,
   "id": "609630a1",
   "metadata": {
    "execution": {
     "iopub.execute_input": "2024-11-04T00:22:44.449394Z",
     "iopub.status.busy": "2024-11-04T00:22:44.449004Z",
     "iopub.status.idle": "2024-11-04T00:22:44.545002Z",
     "shell.execute_reply": "2024-11-04T00:22:44.543812Z"
    },
    "papermill": {
     "duration": 0.106708,
     "end_time": "2024-11-04T00:22:44.547684",
     "exception": false,
     "start_time": "2024-11-04T00:22:44.440976",
     "status": "completed"
    },
    "tags": []
   },
   "outputs": [
    {
     "data": {
      "text/html": [
       "<div>                            <div id=\"88596481-e16b-429e-b4e9-dcbe3ee17f4b\" class=\"plotly-graph-div\" style=\"height:350px; width:100%;\"></div>            <script type=\"text/javascript\">                require([\"plotly\"], function(Plotly) {                    window.PLOTLYENV=window.PLOTLYENV || {};                                    if (document.getElementById(\"88596481-e16b-429e-b4e9-dcbe3ee17f4b\")) {                    Plotly.newPlot(                        \"88596481-e16b-429e-b4e9-dcbe3ee17f4b\",                        [{\"alignmentgroup\":\"True\",\"hovertemplate\":\"Animal's Name=%{x}\\u003cbr\\u003eCount=%{y}\\u003cextra\\u003e\\u003c\\u002fextra\\u003e\",\"legendgroup\":\"\",\"marker\":{\"color\":\"#636efa\",\"pattern\":{\"shape\":\"\"}},\"name\":\"\",\"offsetgroup\":\"\",\"orientation\":\"v\",\"showlegend\":false,\"textposition\":\"auto\",\"texttemplate\":\"%{y}\",\"x\":[\"Luna\",\"Buddy\",\"Mochi\",\"Charlie\",\"Lucy\",\"Bella\",\"Biscuit\",\"Cali\",\"Clover\",\"Gracie\"],\"xaxis\":\"x\",\"y\":[6,5,5,4,4,3,3,3,3,3],\"yaxis\":\"y\",\"type\":\"bar\"}],                        {\"template\":{\"data\":{\"histogram2dcontour\":[{\"type\":\"histogram2dcontour\",\"colorbar\":{\"outlinewidth\":0,\"ticks\":\"\"},\"colorscale\":[[0.0,\"#0d0887\"],[0.1111111111111111,\"#46039f\"],[0.2222222222222222,\"#7201a8\"],[0.3333333333333333,\"#9c179e\"],[0.4444444444444444,\"#bd3786\"],[0.5555555555555556,\"#d8576b\"],[0.6666666666666666,\"#ed7953\"],[0.7777777777777778,\"#fb9f3a\"],[0.8888888888888888,\"#fdca26\"],[1.0,\"#f0f921\"]]}],\"choropleth\":[{\"type\":\"choropleth\",\"colorbar\":{\"outlinewidth\":0,\"ticks\":\"\"}}],\"histogram2d\":[{\"type\":\"histogram2d\",\"colorbar\":{\"outlinewidth\":0,\"ticks\":\"\"},\"colorscale\":[[0.0,\"#0d0887\"],[0.1111111111111111,\"#46039f\"],[0.2222222222222222,\"#7201a8\"],[0.3333333333333333,\"#9c179e\"],[0.4444444444444444,\"#bd3786\"],[0.5555555555555556,\"#d8576b\"],[0.6666666666666666,\"#ed7953\"],[0.7777777777777778,\"#fb9f3a\"],[0.8888888888888888,\"#fdca26\"],[1.0,\"#f0f921\"]]}],\"heatmap\":[{\"type\":\"heatmap\",\"colorbar\":{\"outlinewidth\":0,\"ticks\":\"\"},\"colorscale\":[[0.0,\"#0d0887\"],[0.1111111111111111,\"#46039f\"],[0.2222222222222222,\"#7201a8\"],[0.3333333333333333,\"#9c179e\"],[0.4444444444444444,\"#bd3786\"],[0.5555555555555556,\"#d8576b\"],[0.6666666666666666,\"#ed7953\"],[0.7777777777777778,\"#fb9f3a\"],[0.8888888888888888,\"#fdca26\"],[1.0,\"#f0f921\"]]}],\"heatmapgl\":[{\"type\":\"heatmapgl\",\"colorbar\":{\"outlinewidth\":0,\"ticks\":\"\"},\"colorscale\":[[0.0,\"#0d0887\"],[0.1111111111111111,\"#46039f\"],[0.2222222222222222,\"#7201a8\"],[0.3333333333333333,\"#9c179e\"],[0.4444444444444444,\"#bd3786\"],[0.5555555555555556,\"#d8576b\"],[0.6666666666666666,\"#ed7953\"],[0.7777777777777778,\"#fb9f3a\"],[0.8888888888888888,\"#fdca26\"],[1.0,\"#f0f921\"]]}],\"contourcarpet\":[{\"type\":\"contourcarpet\",\"colorbar\":{\"outlinewidth\":0,\"ticks\":\"\"}}],\"contour\":[{\"type\":\"contour\",\"colorbar\":{\"outlinewidth\":0,\"ticks\":\"\"},\"colorscale\":[[0.0,\"#0d0887\"],[0.1111111111111111,\"#46039f\"],[0.2222222222222222,\"#7201a8\"],[0.3333333333333333,\"#9c179e\"],[0.4444444444444444,\"#bd3786\"],[0.5555555555555556,\"#d8576b\"],[0.6666666666666666,\"#ed7953\"],[0.7777777777777778,\"#fb9f3a\"],[0.8888888888888888,\"#fdca26\"],[1.0,\"#f0f921\"]]}],\"surface\":[{\"type\":\"surface\",\"colorbar\":{\"outlinewidth\":0,\"ticks\":\"\"},\"colorscale\":[[0.0,\"#0d0887\"],[0.1111111111111111,\"#46039f\"],[0.2222222222222222,\"#7201a8\"],[0.3333333333333333,\"#9c179e\"],[0.4444444444444444,\"#bd3786\"],[0.5555555555555556,\"#d8576b\"],[0.6666666666666666,\"#ed7953\"],[0.7777777777777778,\"#fb9f3a\"],[0.8888888888888888,\"#fdca26\"],[1.0,\"#f0f921\"]]}],\"mesh3d\":[{\"type\":\"mesh3d\",\"colorbar\":{\"outlinewidth\":0,\"ticks\":\"\"}}],\"scatter\":[{\"fillpattern\":{\"fillmode\":\"overlay\",\"size\":10,\"solidity\":0.2},\"type\":\"scatter\"}],\"parcoords\":[{\"type\":\"parcoords\",\"line\":{\"colorbar\":{\"outlinewidth\":0,\"ticks\":\"\"}}}],\"scatterpolargl\":[{\"type\":\"scatterpolargl\",\"marker\":{\"colorbar\":{\"outlinewidth\":0,\"ticks\":\"\"}}}],\"bar\":[{\"error_x\":{\"color\":\"#2a3f5f\"},\"error_y\":{\"color\":\"#2a3f5f\"},\"marker\":{\"line\":{\"color\":\"#E5ECF6\",\"width\":0.5},\"pattern\":{\"fillmode\":\"overlay\",\"size\":10,\"solidity\":0.2}},\"type\":\"bar\"}],\"scattergeo\":[{\"type\":\"scattergeo\",\"marker\":{\"colorbar\":{\"outlinewidth\":0,\"ticks\":\"\"}}}],\"scatterpolar\":[{\"type\":\"scatterpolar\",\"marker\":{\"colorbar\":{\"outlinewidth\":0,\"ticks\":\"\"}}}],\"histogram\":[{\"marker\":{\"pattern\":{\"fillmode\":\"overlay\",\"size\":10,\"solidity\":0.2}},\"type\":\"histogram\"}],\"scattergl\":[{\"type\":\"scattergl\",\"marker\":{\"colorbar\":{\"outlinewidth\":0,\"ticks\":\"\"}}}],\"scatter3d\":[{\"type\":\"scatter3d\",\"line\":{\"colorbar\":{\"outlinewidth\":0,\"ticks\":\"\"}},\"marker\":{\"colorbar\":{\"outlinewidth\":0,\"ticks\":\"\"}}}],\"scattermapbox\":[{\"type\":\"scattermapbox\",\"marker\":{\"colorbar\":{\"outlinewidth\":0,\"ticks\":\"\"}}}],\"scatterternary\":[{\"type\":\"scatterternary\",\"marker\":{\"colorbar\":{\"outlinewidth\":0,\"ticks\":\"\"}}}],\"scattercarpet\":[{\"type\":\"scattercarpet\",\"marker\":{\"colorbar\":{\"outlinewidth\":0,\"ticks\":\"\"}}}],\"carpet\":[{\"aaxis\":{\"endlinecolor\":\"#2a3f5f\",\"gridcolor\":\"white\",\"linecolor\":\"white\",\"minorgridcolor\":\"white\",\"startlinecolor\":\"#2a3f5f\"},\"baxis\":{\"endlinecolor\":\"#2a3f5f\",\"gridcolor\":\"white\",\"linecolor\":\"white\",\"minorgridcolor\":\"white\",\"startlinecolor\":\"#2a3f5f\"},\"type\":\"carpet\"}],\"table\":[{\"cells\":{\"fill\":{\"color\":\"#EBF0F8\"},\"line\":{\"color\":\"white\"}},\"header\":{\"fill\":{\"color\":\"#C8D4E3\"},\"line\":{\"color\":\"white\"}},\"type\":\"table\"}],\"barpolar\":[{\"marker\":{\"line\":{\"color\":\"#E5ECF6\",\"width\":0.5},\"pattern\":{\"fillmode\":\"overlay\",\"size\":10,\"solidity\":0.2}},\"type\":\"barpolar\"}],\"pie\":[{\"automargin\":true,\"type\":\"pie\"}]},\"layout\":{\"autotypenumbers\":\"strict\",\"colorway\":[\"#636efa\",\"#EF553B\",\"#00cc96\",\"#ab63fa\",\"#FFA15A\",\"#19d3f3\",\"#FF6692\",\"#B6E880\",\"#FF97FF\",\"#FECB52\"],\"font\":{\"color\":\"#2a3f5f\"},\"hovermode\":\"closest\",\"hoverlabel\":{\"align\":\"left\"},\"paper_bgcolor\":\"white\",\"plot_bgcolor\":\"#E5ECF6\",\"polar\":{\"bgcolor\":\"#E5ECF6\",\"angularaxis\":{\"gridcolor\":\"white\",\"linecolor\":\"white\",\"ticks\":\"\"},\"radialaxis\":{\"gridcolor\":\"white\",\"linecolor\":\"white\",\"ticks\":\"\"}},\"ternary\":{\"bgcolor\":\"#E5ECF6\",\"aaxis\":{\"gridcolor\":\"white\",\"linecolor\":\"white\",\"ticks\":\"\"},\"baxis\":{\"gridcolor\":\"white\",\"linecolor\":\"white\",\"ticks\":\"\"},\"caxis\":{\"gridcolor\":\"white\",\"linecolor\":\"white\",\"ticks\":\"\"}},\"coloraxis\":{\"colorbar\":{\"outlinewidth\":0,\"ticks\":\"\"}},\"colorscale\":{\"sequential\":[[0.0,\"#0d0887\"],[0.1111111111111111,\"#46039f\"],[0.2222222222222222,\"#7201a8\"],[0.3333333333333333,\"#9c179e\"],[0.4444444444444444,\"#bd3786\"],[0.5555555555555556,\"#d8576b\"],[0.6666666666666666,\"#ed7953\"],[0.7777777777777778,\"#fb9f3a\"],[0.8888888888888888,\"#fdca26\"],[1.0,\"#f0f921\"]],\"sequentialminus\":[[0.0,\"#0d0887\"],[0.1111111111111111,\"#46039f\"],[0.2222222222222222,\"#7201a8\"],[0.3333333333333333,\"#9c179e\"],[0.4444444444444444,\"#bd3786\"],[0.5555555555555556,\"#d8576b\"],[0.6666666666666666,\"#ed7953\"],[0.7777777777777778,\"#fb9f3a\"],[0.8888888888888888,\"#fdca26\"],[1.0,\"#f0f921\"]],\"diverging\":[[0,\"#8e0152\"],[0.1,\"#c51b7d\"],[0.2,\"#de77ae\"],[0.3,\"#f1b6da\"],[0.4,\"#fde0ef\"],[0.5,\"#f7f7f7\"],[0.6,\"#e6f5d0\"],[0.7,\"#b8e186\"],[0.8,\"#7fbc41\"],[0.9,\"#4d9221\"],[1,\"#276419\"]]},\"xaxis\":{\"gridcolor\":\"white\",\"linecolor\":\"white\",\"ticks\":\"\",\"title\":{\"standoff\":15},\"zerolinecolor\":\"white\",\"automargin\":true,\"zerolinewidth\":2},\"yaxis\":{\"gridcolor\":\"white\",\"linecolor\":\"white\",\"ticks\":\"\",\"title\":{\"standoff\":15},\"zerolinecolor\":\"white\",\"automargin\":true,\"zerolinewidth\":2},\"scene\":{\"xaxis\":{\"backgroundcolor\":\"#E5ECF6\",\"gridcolor\":\"white\",\"linecolor\":\"white\",\"showbackground\":true,\"ticks\":\"\",\"zerolinecolor\":\"white\",\"gridwidth\":2},\"yaxis\":{\"backgroundcolor\":\"#E5ECF6\",\"gridcolor\":\"white\",\"linecolor\":\"white\",\"showbackground\":true,\"ticks\":\"\",\"zerolinecolor\":\"white\",\"gridwidth\":2},\"zaxis\":{\"backgroundcolor\":\"#E5ECF6\",\"gridcolor\":\"white\",\"linecolor\":\"white\",\"showbackground\":true,\"ticks\":\"\",\"zerolinecolor\":\"white\",\"gridwidth\":2}},\"shapedefaults\":{\"line\":{\"color\":\"#2a3f5f\"}},\"annotationdefaults\":{\"arrowcolor\":\"#2a3f5f\",\"arrowhead\":0,\"arrowwidth\":1},\"geo\":{\"bgcolor\":\"white\",\"landcolor\":\"#E5ECF6\",\"subunitcolor\":\"white\",\"showland\":true,\"showlakes\":true,\"lakecolor\":\"white\"},\"title\":{\"x\":0.05},\"mapbox\":{\"style\":\"light\"}}},\"xaxis\":{\"anchor\":\"y\",\"domain\":[0.0,1.0],\"title\":{\"text\":\"Animal's Name\"}},\"yaxis\":{\"anchor\":\"x\",\"domain\":[0.0,1.0],\"title\":{\"text\":\"Count\"}},\"legend\":{\"tracegroupgap\":0},\"title\":{\"text\":\"Top 10 Cat Names\"},\"barmode\":\"group\",\"height\":350},                        {\"responsive\": true}                    ).then(function(){\n",
       "                            \n",
       "var gd = document.getElementById('88596481-e16b-429e-b4e9-dcbe3ee17f4b');\n",
       "var x = new MutationObserver(function (mutations, observer) {{\n",
       "        var display = window.getComputedStyle(gd).display;\n",
       "        if (!display || display === 'none') {{\n",
       "            console.log([gd, 'removed!']);\n",
       "            Plotly.purge(gd);\n",
       "            observer.disconnect();\n",
       "        }}\n",
       "}});\n",
       "\n",
       "// Listen for the removal of the full notebook cells\n",
       "var notebookContainer = gd.closest('#notebook-container');\n",
       "if (notebookContainer) {{\n",
       "    x.observe(notebookContainer, {childList: true});\n",
       "}}\n",
       "\n",
       "// Listen for the clearing of the current output cell\n",
       "var outputEl = gd.closest('.output');\n",
       "if (outputEl) {{\n",
       "    x.observe(outputEl, {childList: true});\n",
       "}}\n",
       "\n",
       "                        })                };                });            </script>        </div>"
      ]
     },
     "metadata": {},
     "output_type": "display_data"
    }
   ],
   "source": [
    "cats = breed_count[breed_count.Species == \"Cat\"].nlargest(10, \"Count\")\n",
    "\n",
    "fig = px.bar(cats, x=\"Animal's Name\", y=\"Count\", barmode=\"group\", title=\"Top 10 Cat Names\", height=350, text_auto=True)\n",
    "fig.show()"
   ]
  },
  {
   "cell_type": "code",
   "execution_count": 8,
   "id": "e4dcf0d7",
   "metadata": {
    "execution": {
     "iopub.execute_input": "2024-11-04T00:22:44.564413Z",
     "iopub.status.busy": "2024-11-04T00:22:44.563436Z",
     "iopub.status.idle": "2024-11-04T00:22:44.636866Z",
     "shell.execute_reply": "2024-11-04T00:22:44.635743Z"
    },
    "papermill": {
     "duration": 0.084114,
     "end_time": "2024-11-04T00:22:44.639321",
     "exception": false,
     "start_time": "2024-11-04T00:22:44.555207",
     "status": "completed"
    },
    "tags": []
   },
   "outputs": [
    {
     "data": {
      "text/html": [
       "<div>                            <div id=\"5f5ed2d6-f0f7-4890-8b64-ca165b25b0dc\" class=\"plotly-graph-div\" style=\"height:350px; width:100%;\"></div>            <script type=\"text/javascript\">                require([\"plotly\"], function(Plotly) {                    window.PLOTLYENV=window.PLOTLYENV || {};                                    if (document.getElementById(\"5f5ed2d6-f0f7-4890-8b64-ca165b25b0dc\")) {                    Plotly.newPlot(                        \"5f5ed2d6-f0f7-4890-8b64-ca165b25b0dc\",                        [{\"alignmentgroup\":\"True\",\"hovertemplate\":\"Animal's Name=%{x}\\u003cbr\\u003eCount=%{y}\\u003cextra\\u003e\\u003c\\u002fextra\\u003e\",\"legendgroup\":\"\",\"marker\":{\"color\":\"#636efa\",\"pattern\":{\"shape\":\"\"}},\"name\":\"\",\"offsetgroup\":\"\",\"orientation\":\"v\",\"showlegend\":false,\"textposition\":\"auto\",\"texttemplate\":\"%{y}\",\"x\":[\"Bella\",\"Charlie\",\"Cody\",\"Juno\",\"Kona\",\"Loki\",\"Luna\",\"Max\",\"Maximus\",\"Molly\"],\"xaxis\":\"x\",\"y\":[2,2,2,2,2,2,2,2,2,2],\"yaxis\":\"y\",\"type\":\"bar\"}],                        {\"template\":{\"data\":{\"histogram2dcontour\":[{\"type\":\"histogram2dcontour\",\"colorbar\":{\"outlinewidth\":0,\"ticks\":\"\"},\"colorscale\":[[0.0,\"#0d0887\"],[0.1111111111111111,\"#46039f\"],[0.2222222222222222,\"#7201a8\"],[0.3333333333333333,\"#9c179e\"],[0.4444444444444444,\"#bd3786\"],[0.5555555555555556,\"#d8576b\"],[0.6666666666666666,\"#ed7953\"],[0.7777777777777778,\"#fb9f3a\"],[0.8888888888888888,\"#fdca26\"],[1.0,\"#f0f921\"]]}],\"choropleth\":[{\"type\":\"choropleth\",\"colorbar\":{\"outlinewidth\":0,\"ticks\":\"\"}}],\"histogram2d\":[{\"type\":\"histogram2d\",\"colorbar\":{\"outlinewidth\":0,\"ticks\":\"\"},\"colorscale\":[[0.0,\"#0d0887\"],[0.1111111111111111,\"#46039f\"],[0.2222222222222222,\"#7201a8\"],[0.3333333333333333,\"#9c179e\"],[0.4444444444444444,\"#bd3786\"],[0.5555555555555556,\"#d8576b\"],[0.6666666666666666,\"#ed7953\"],[0.7777777777777778,\"#fb9f3a\"],[0.8888888888888888,\"#fdca26\"],[1.0,\"#f0f921\"]]}],\"heatmap\":[{\"type\":\"heatmap\",\"colorbar\":{\"outlinewidth\":0,\"ticks\":\"\"},\"colorscale\":[[0.0,\"#0d0887\"],[0.1111111111111111,\"#46039f\"],[0.2222222222222222,\"#7201a8\"],[0.3333333333333333,\"#9c179e\"],[0.4444444444444444,\"#bd3786\"],[0.5555555555555556,\"#d8576b\"],[0.6666666666666666,\"#ed7953\"],[0.7777777777777778,\"#fb9f3a\"],[0.8888888888888888,\"#fdca26\"],[1.0,\"#f0f921\"]]}],\"heatmapgl\":[{\"type\":\"heatmapgl\",\"colorbar\":{\"outlinewidth\":0,\"ticks\":\"\"},\"colorscale\":[[0.0,\"#0d0887\"],[0.1111111111111111,\"#46039f\"],[0.2222222222222222,\"#7201a8\"],[0.3333333333333333,\"#9c179e\"],[0.4444444444444444,\"#bd3786\"],[0.5555555555555556,\"#d8576b\"],[0.6666666666666666,\"#ed7953\"],[0.7777777777777778,\"#fb9f3a\"],[0.8888888888888888,\"#fdca26\"],[1.0,\"#f0f921\"]]}],\"contourcarpet\":[{\"type\":\"contourcarpet\",\"colorbar\":{\"outlinewidth\":0,\"ticks\":\"\"}}],\"contour\":[{\"type\":\"contour\",\"colorbar\":{\"outlinewidth\":0,\"ticks\":\"\"},\"colorscale\":[[0.0,\"#0d0887\"],[0.1111111111111111,\"#46039f\"],[0.2222222222222222,\"#7201a8\"],[0.3333333333333333,\"#9c179e\"],[0.4444444444444444,\"#bd3786\"],[0.5555555555555556,\"#d8576b\"],[0.6666666666666666,\"#ed7953\"],[0.7777777777777778,\"#fb9f3a\"],[0.8888888888888888,\"#fdca26\"],[1.0,\"#f0f921\"]]}],\"surface\":[{\"type\":\"surface\",\"colorbar\":{\"outlinewidth\":0,\"ticks\":\"\"},\"colorscale\":[[0.0,\"#0d0887\"],[0.1111111111111111,\"#46039f\"],[0.2222222222222222,\"#7201a8\"],[0.3333333333333333,\"#9c179e\"],[0.4444444444444444,\"#bd3786\"],[0.5555555555555556,\"#d8576b\"],[0.6666666666666666,\"#ed7953\"],[0.7777777777777778,\"#fb9f3a\"],[0.8888888888888888,\"#fdca26\"],[1.0,\"#f0f921\"]]}],\"mesh3d\":[{\"type\":\"mesh3d\",\"colorbar\":{\"outlinewidth\":0,\"ticks\":\"\"}}],\"scatter\":[{\"fillpattern\":{\"fillmode\":\"overlay\",\"size\":10,\"solidity\":0.2},\"type\":\"scatter\"}],\"parcoords\":[{\"type\":\"parcoords\",\"line\":{\"colorbar\":{\"outlinewidth\":0,\"ticks\":\"\"}}}],\"scatterpolargl\":[{\"type\":\"scatterpolargl\",\"marker\":{\"colorbar\":{\"outlinewidth\":0,\"ticks\":\"\"}}}],\"bar\":[{\"error_x\":{\"color\":\"#2a3f5f\"},\"error_y\":{\"color\":\"#2a3f5f\"},\"marker\":{\"line\":{\"color\":\"#E5ECF6\",\"width\":0.5},\"pattern\":{\"fillmode\":\"overlay\",\"size\":10,\"solidity\":0.2}},\"type\":\"bar\"}],\"scattergeo\":[{\"type\":\"scattergeo\",\"marker\":{\"colorbar\":{\"outlinewidth\":0,\"ticks\":\"\"}}}],\"scatterpolar\":[{\"type\":\"scatterpolar\",\"marker\":{\"colorbar\":{\"outlinewidth\":0,\"ticks\":\"\"}}}],\"histogram\":[{\"marker\":{\"pattern\":{\"fillmode\":\"overlay\",\"size\":10,\"solidity\":0.2}},\"type\":\"histogram\"}],\"scattergl\":[{\"type\":\"scattergl\",\"marker\":{\"colorbar\":{\"outlinewidth\":0,\"ticks\":\"\"}}}],\"scatter3d\":[{\"type\":\"scatter3d\",\"line\":{\"colorbar\":{\"outlinewidth\":0,\"ticks\":\"\"}},\"marker\":{\"colorbar\":{\"outlinewidth\":0,\"ticks\":\"\"}}}],\"scattermapbox\":[{\"type\":\"scattermapbox\",\"marker\":{\"colorbar\":{\"outlinewidth\":0,\"ticks\":\"\"}}}],\"scatterternary\":[{\"type\":\"scatterternary\",\"marker\":{\"colorbar\":{\"outlinewidth\":0,\"ticks\":\"\"}}}],\"scattercarpet\":[{\"type\":\"scattercarpet\",\"marker\":{\"colorbar\":{\"outlinewidth\":0,\"ticks\":\"\"}}}],\"carpet\":[{\"aaxis\":{\"endlinecolor\":\"#2a3f5f\",\"gridcolor\":\"white\",\"linecolor\":\"white\",\"minorgridcolor\":\"white\",\"startlinecolor\":\"#2a3f5f\"},\"baxis\":{\"endlinecolor\":\"#2a3f5f\",\"gridcolor\":\"white\",\"linecolor\":\"white\",\"minorgridcolor\":\"white\",\"startlinecolor\":\"#2a3f5f\"},\"type\":\"carpet\"}],\"table\":[{\"cells\":{\"fill\":{\"color\":\"#EBF0F8\"},\"line\":{\"color\":\"white\"}},\"header\":{\"fill\":{\"color\":\"#C8D4E3\"},\"line\":{\"color\":\"white\"}},\"type\":\"table\"}],\"barpolar\":[{\"marker\":{\"line\":{\"color\":\"#E5ECF6\",\"width\":0.5},\"pattern\":{\"fillmode\":\"overlay\",\"size\":10,\"solidity\":0.2}},\"type\":\"barpolar\"}],\"pie\":[{\"automargin\":true,\"type\":\"pie\"}]},\"layout\":{\"autotypenumbers\":\"strict\",\"colorway\":[\"#636efa\",\"#EF553B\",\"#00cc96\",\"#ab63fa\",\"#FFA15A\",\"#19d3f3\",\"#FF6692\",\"#B6E880\",\"#FF97FF\",\"#FECB52\"],\"font\":{\"color\":\"#2a3f5f\"},\"hovermode\":\"closest\",\"hoverlabel\":{\"align\":\"left\"},\"paper_bgcolor\":\"white\",\"plot_bgcolor\":\"#E5ECF6\",\"polar\":{\"bgcolor\":\"#E5ECF6\",\"angularaxis\":{\"gridcolor\":\"white\",\"linecolor\":\"white\",\"ticks\":\"\"},\"radialaxis\":{\"gridcolor\":\"white\",\"linecolor\":\"white\",\"ticks\":\"\"}},\"ternary\":{\"bgcolor\":\"#E5ECF6\",\"aaxis\":{\"gridcolor\":\"white\",\"linecolor\":\"white\",\"ticks\":\"\"},\"baxis\":{\"gridcolor\":\"white\",\"linecolor\":\"white\",\"ticks\":\"\"},\"caxis\":{\"gridcolor\":\"white\",\"linecolor\":\"white\",\"ticks\":\"\"}},\"coloraxis\":{\"colorbar\":{\"outlinewidth\":0,\"ticks\":\"\"}},\"colorscale\":{\"sequential\":[[0.0,\"#0d0887\"],[0.1111111111111111,\"#46039f\"],[0.2222222222222222,\"#7201a8\"],[0.3333333333333333,\"#9c179e\"],[0.4444444444444444,\"#bd3786\"],[0.5555555555555556,\"#d8576b\"],[0.6666666666666666,\"#ed7953\"],[0.7777777777777778,\"#fb9f3a\"],[0.8888888888888888,\"#fdca26\"],[1.0,\"#f0f921\"]],\"sequentialminus\":[[0.0,\"#0d0887\"],[0.1111111111111111,\"#46039f\"],[0.2222222222222222,\"#7201a8\"],[0.3333333333333333,\"#9c179e\"],[0.4444444444444444,\"#bd3786\"],[0.5555555555555556,\"#d8576b\"],[0.6666666666666666,\"#ed7953\"],[0.7777777777777778,\"#fb9f3a\"],[0.8888888888888888,\"#fdca26\"],[1.0,\"#f0f921\"]],\"diverging\":[[0,\"#8e0152\"],[0.1,\"#c51b7d\"],[0.2,\"#de77ae\"],[0.3,\"#f1b6da\"],[0.4,\"#fde0ef\"],[0.5,\"#f7f7f7\"],[0.6,\"#e6f5d0\"],[0.7,\"#b8e186\"],[0.8,\"#7fbc41\"],[0.9,\"#4d9221\"],[1,\"#276419\"]]},\"xaxis\":{\"gridcolor\":\"white\",\"linecolor\":\"white\",\"ticks\":\"\",\"title\":{\"standoff\":15},\"zerolinecolor\":\"white\",\"automargin\":true,\"zerolinewidth\":2},\"yaxis\":{\"gridcolor\":\"white\",\"linecolor\":\"white\",\"ticks\":\"\",\"title\":{\"standoff\":15},\"zerolinecolor\":\"white\",\"automargin\":true,\"zerolinewidth\":2},\"scene\":{\"xaxis\":{\"backgroundcolor\":\"#E5ECF6\",\"gridcolor\":\"white\",\"linecolor\":\"white\",\"showbackground\":true,\"ticks\":\"\",\"zerolinecolor\":\"white\",\"gridwidth\":2},\"yaxis\":{\"backgroundcolor\":\"#E5ECF6\",\"gridcolor\":\"white\",\"linecolor\":\"white\",\"showbackground\":true,\"ticks\":\"\",\"zerolinecolor\":\"white\",\"gridwidth\":2},\"zaxis\":{\"backgroundcolor\":\"#E5ECF6\",\"gridcolor\":\"white\",\"linecolor\":\"white\",\"showbackground\":true,\"ticks\":\"\",\"zerolinecolor\":\"white\",\"gridwidth\":2}},\"shapedefaults\":{\"line\":{\"color\":\"#2a3f5f\"}},\"annotationdefaults\":{\"arrowcolor\":\"#2a3f5f\",\"arrowhead\":0,\"arrowwidth\":1},\"geo\":{\"bgcolor\":\"white\",\"landcolor\":\"#E5ECF6\",\"subunitcolor\":\"white\",\"showland\":true,\"showlakes\":true,\"lakecolor\":\"white\"},\"title\":{\"x\":0.05},\"mapbox\":{\"style\":\"light\"}}},\"xaxis\":{\"anchor\":\"y\",\"domain\":[0.0,1.0],\"title\":{\"text\":\"Animal's Name\"}},\"yaxis\":{\"anchor\":\"x\",\"domain\":[0.0,1.0],\"title\":{\"text\":\"Count\"}},\"legend\":{\"tracegroupgap\":0},\"title\":{\"text\":\"Top 10 Dog Names\"},\"barmode\":\"group\",\"height\":350},                        {\"responsive\": true}                    ).then(function(){\n",
       "                            \n",
       "var gd = document.getElementById('5f5ed2d6-f0f7-4890-8b64-ca165b25b0dc');\n",
       "var x = new MutationObserver(function (mutations, observer) {{\n",
       "        var display = window.getComputedStyle(gd).display;\n",
       "        if (!display || display === 'none') {{\n",
       "            console.log([gd, 'removed!']);\n",
       "            Plotly.purge(gd);\n",
       "            observer.disconnect();\n",
       "        }}\n",
       "}});\n",
       "\n",
       "// Listen for the removal of the full notebook cells\n",
       "var notebookContainer = gd.closest('#notebook-container');\n",
       "if (notebookContainer) {{\n",
       "    x.observe(notebookContainer, {childList: true});\n",
       "}}\n",
       "\n",
       "// Listen for the clearing of the current output cell\n",
       "var outputEl = gd.closest('.output');\n",
       "if (outputEl) {{\n",
       "    x.observe(outputEl, {childList: true});\n",
       "}}\n",
       "\n",
       "                        })                };                });            </script>        </div>"
      ]
     },
     "metadata": {},
     "output_type": "display_data"
    }
   ],
   "source": [
    "dogs = breed_count[breed_count.Species == \"Dog\"].nlargest(10, \"Count\")\n",
    "\n",
    "fig = px.bar(dogs, x=\"Animal's Name\", y=\"Count\", barmode=\"group\", title=\"Top 10 Dog Names\", height=350, text_auto=True)\n",
    "fig.show()"
   ]
  },
  {
   "cell_type": "code",
   "execution_count": 9,
   "id": "31a95210",
   "metadata": {
    "execution": {
     "iopub.execute_input": "2024-11-04T00:22:44.658642Z",
     "iopub.status.busy": "2024-11-04T00:22:44.658096Z",
     "iopub.status.idle": "2024-11-04T00:22:45.122734Z",
     "shell.execute_reply": "2024-11-04T00:22:45.121268Z"
    },
    "papermill": {
     "duration": 0.47796,
     "end_time": "2024-11-04T00:22:45.125500",
     "exception": false,
     "start_time": "2024-11-04T00:22:44.647540",
     "status": "completed"
    },
    "tags": []
   },
   "outputs": [
    {
     "data": {
      "text/html": [
       "<div>\n",
       "<style scoped>\n",
       "    .dataframe tbody tr th:only-of-type {\n",
       "        vertical-align: middle;\n",
       "    }\n",
       "\n",
       "    .dataframe tbody tr th {\n",
       "        vertical-align: top;\n",
       "    }\n",
       "\n",
       "    .dataframe thead th {\n",
       "        text-align: right;\n",
       "    }\n",
       "</style>\n",
       "<table border=\"1\" class=\"dataframe\">\n",
       "  <thead>\n",
       "    <tr style=\"text-align: right;\">\n",
       "      <th></th>\n",
       "      <th>ZIP Code</th>\n",
       "    </tr>\n",
       "  </thead>\n",
       "  <tbody>\n",
       "    <tr>\n",
       "      <th>0</th>\n",
       "      <td>98136</td>\n",
       "    </tr>\n",
       "    <tr>\n",
       "      <th>1</th>\n",
       "      <td>98144</td>\n",
       "    </tr>\n",
       "    <tr>\n",
       "      <th>2</th>\n",
       "      <td>98109</td>\n",
       "    </tr>\n",
       "    <tr>\n",
       "      <th>3</th>\n",
       "      <td>98195</td>\n",
       "    </tr>\n",
       "    <tr>\n",
       "      <th>4</th>\n",
       "      <td>98199</td>\n",
       "    </tr>\n",
       "  </tbody>\n",
       "</table>\n",
       "</div>"
      ],
      "text/plain": [
       "   ZIP Code\n",
       "0     98136\n",
       "1     98144\n",
       "2     98109\n",
       "3     98195\n",
       "4     98199"
      ]
     },
     "execution_count": 9,
     "metadata": {},
     "output_type": "execute_result"
    }
   ],
   "source": [
    "url = \"https://raw.githubusercontent.com/seattleio/seattle-boundaries-data/refs/heads/master/data/zip-codes.geojson\"\n",
    "seattle_zips_json = []\n",
    "\n",
    "with urlopen(url) as response:\n",
    "    seattle_zips_json = json.load(response)\n",
    "\n",
    "zip_codes = []\n",
    "for i in range(len(seattle_zips_json['features'])):\n",
    "    code = seattle_zips_json['features'][i]['properties']['ZCTA5CE10']\n",
    "    zip_codes.append(code)\n",
    "\n",
    "zip_codes = pd.DataFrame({'ZIP Code': zip_codes})\n",
    "zip_codes['ZIP Code'] = zip_codes['ZIP Code'].astype(int)\n",
    "zip_codes.head()"
   ]
  },
  {
   "cell_type": "code",
   "execution_count": 10,
   "id": "e466376b",
   "metadata": {
    "execution": {
     "iopub.execute_input": "2024-11-04T00:22:45.146019Z",
     "iopub.status.busy": "2024-11-04T00:22:45.145248Z",
     "iopub.status.idle": "2024-11-04T00:22:45.177335Z",
     "shell.execute_reply": "2024-11-04T00:22:45.176084Z"
    },
    "papermill": {
     "duration": 0.046019,
     "end_time": "2024-11-04T00:22:45.179778",
     "exception": false,
     "start_time": "2024-11-04T00:22:45.133759",
     "status": "completed"
    },
    "tags": []
   },
   "outputs": [
    {
     "data": {
      "text/html": [
       "<div>\n",
       "<style scoped>\n",
       "    .dataframe tbody tr th:only-of-type {\n",
       "        vertical-align: middle;\n",
       "    }\n",
       "\n",
       "    .dataframe tbody tr th {\n",
       "        vertical-align: top;\n",
       "    }\n",
       "\n",
       "    .dataframe thead th {\n",
       "        text-align: right;\n",
       "    }\n",
       "</style>\n",
       "<table border=\"1\" class=\"dataframe\">\n",
       "  <thead>\n",
       "    <tr style=\"text-align: right;\">\n",
       "      <th></th>\n",
       "      <th>License Number</th>\n",
       "      <th>License Issue Date</th>\n",
       "      <th>Animal's Name</th>\n",
       "      <th>Species</th>\n",
       "      <th>Primary Breed</th>\n",
       "      <th>Secondary Breed</th>\n",
       "      <th>ZIP Code</th>\n",
       "      <th>Year Issued</th>\n",
       "      <th>ZIP Code Count</th>\n",
       "    </tr>\n",
       "  </thead>\n",
       "  <tbody>\n",
       "    <tr>\n",
       "      <th>0</th>\n",
       "      <td>S107948</td>\n",
       "      <td>December 18 2015</td>\n",
       "      <td>Zen</td>\n",
       "      <td>Cat</td>\n",
       "      <td>Domestic Longhair</td>\n",
       "      <td>Mix</td>\n",
       "      <td>98117</td>\n",
       "      <td>2015</td>\n",
       "      <td>54</td>\n",
       "    </tr>\n",
       "    <tr>\n",
       "      <th>1</th>\n",
       "      <td>S116503</td>\n",
       "      <td>June 14 2016</td>\n",
       "      <td>Misty</td>\n",
       "      <td>Cat</td>\n",
       "      <td>Siberian</td>\n",
       "      <td>Not Specified</td>\n",
       "      <td>98117</td>\n",
       "      <td>2016</td>\n",
       "      <td>54</td>\n",
       "    </tr>\n",
       "    <tr>\n",
       "      <th>2</th>\n",
       "      <td>S119301</td>\n",
       "      <td>August 04 2016</td>\n",
       "      <td>Lyra</td>\n",
       "      <td>Cat</td>\n",
       "      <td>Mix</td>\n",
       "      <td>Not Specified</td>\n",
       "      <td>98121</td>\n",
       "      <td>2016</td>\n",
       "      <td>33</td>\n",
       "    </tr>\n",
       "    <tr>\n",
       "      <th>3</th>\n",
       "      <td>962273</td>\n",
       "      <td>February 13 2019</td>\n",
       "      <td>Veronica</td>\n",
       "      <td>Cat</td>\n",
       "      <td>Domestic Longhair</td>\n",
       "      <td>Not Specified</td>\n",
       "      <td>98107</td>\n",
       "      <td>2019</td>\n",
       "      <td>39</td>\n",
       "    </tr>\n",
       "    <tr>\n",
       "      <th>4</th>\n",
       "      <td>S133113</td>\n",
       "      <td>August 10 2019</td>\n",
       "      <td>Spider</td>\n",
       "      <td>Cat</td>\n",
       "      <td>LaPerm</td>\n",
       "      <td>Not Specified</td>\n",
       "      <td>98115</td>\n",
       "      <td>2019</td>\n",
       "      <td>85</td>\n",
       "    </tr>\n",
       "  </tbody>\n",
       "</table>\n",
       "</div>"
      ],
      "text/plain": [
       "  License Number License Issue Date Animal's Name Species      Primary Breed  \\\n",
       "0        S107948   December 18 2015           Zen     Cat  Domestic Longhair   \n",
       "1        S116503       June 14 2016         Misty     Cat           Siberian   \n",
       "2        S119301     August 04 2016          Lyra     Cat                Mix   \n",
       "3         962273   February 13 2019      Veronica     Cat  Domestic Longhair   \n",
       "4        S133113     August 10 2019        Spider     Cat             LaPerm   \n",
       "\n",
       "  Secondary Breed  ZIP Code  Year Issued  ZIP Code Count  \n",
       "0             Mix     98117         2015              54  \n",
       "1   Not Specified     98117         2016              54  \n",
       "2   Not Specified     98121         2016              33  \n",
       "3   Not Specified     98107         2019              39  \n",
       "4   Not Specified     98115         2019              85  "
      ]
     },
     "execution_count": 10,
     "metadata": {},
     "output_type": "execute_result"
    }
   ],
   "source": [
    "zip_codes_count = data.groupby([\"ZIP Code\"]).count()['Species']\n",
    "zip_codes_count = zip_codes.merge(zip_codes_count, on=\"ZIP Code\").rename({\"Species\": \"ZIP Code Count\"}, axis=1)\n",
    "\n",
    "data = data.reset_index().merge(zip_codes_count, on=\"ZIP Code\")\n",
    "data.head()"
   ]
  },
  {
   "cell_type": "code",
   "execution_count": 11,
   "id": "38a79316",
   "metadata": {
    "execution": {
     "iopub.execute_input": "2024-11-04T00:22:45.197499Z",
     "iopub.status.busy": "2024-11-04T00:22:45.196747Z",
     "iopub.status.idle": "2024-11-04T00:22:45.201649Z",
     "shell.execute_reply": "2024-11-04T00:22:45.200631Z"
    },
    "papermill": {
     "duration": 0.016316,
     "end_time": "2024-11-04T00:22:45.203974",
     "exception": false,
     "start_time": "2024-11-04T00:22:45.187658",
     "status": "completed"
    },
    "tags": []
   },
   "outputs": [],
   "source": [
    "# Most popular breeds by zip code?"
   ]
  },
  {
   "cell_type": "code",
   "execution_count": 12,
   "id": "c94652ce",
   "metadata": {
    "execution": {
     "iopub.execute_input": "2024-11-04T00:22:45.221550Z",
     "iopub.status.busy": "2024-11-04T00:22:45.220644Z",
     "iopub.status.idle": "2024-11-04T00:22:45.366827Z",
     "shell.execute_reply": "2024-11-04T00:22:45.365632Z"
    },
    "papermill": {
     "duration": 0.157919,
     "end_time": "2024-11-04T00:22:45.369625",
     "exception": false,
     "start_time": "2024-11-04T00:22:45.211706",
     "status": "completed"
    },
    "tags": []
   },
   "outputs": [
    {
     "data": {
      "text/html": [
       "<div>                            <div id=\"0f39fbfc-6880-4fef-bbef-5cdd6bdfcb3f\" class=\"plotly-graph-div\" style=\"height:525px; width:100%;\"></div>            <script type=\"text/javascript\">                require([\"plotly\"], function(Plotly) {                    window.PLOTLYENV=window.PLOTLYENV || {};                                    if (document.getElementById(\"0f39fbfc-6880-4fef-bbef-5cdd6bdfcb3f\")) {                    Plotly.newPlot(                        \"0f39fbfc-6880-4fef-bbef-5cdd6bdfcb3f\",                        [{\"coloraxis\":\"coloraxis\",\"featureidkey\":\"properties.ZCTA5CE10\",\"geo\":\"geo\",\"geojson\":{\"type\":\"FeatureCollection\",\"features\":[{\"type\":\"Feature\",\"properties\":{\"ZCTA5CE10\":\"98136\",\"AFFGEOID10\":\"8600000US98136\",\"GEOID10\":\"98136\",\"ALAND10\":5954030.0,\"AWATER10\":2163632.0},\"geometry\":{\"type\":\"Polygon\",\"coordinates\":[[[-122.398693,47.557501],[-122.381464,47.557458],[-122.381528,47.555628],[-122.380783,47.555636],[-122.380372,47.550202],[-122.381717,47.550223],[-122.381857,47.546605],[-122.381172,47.541204],[-122.382081,47.522915],[-122.380735,47.5229],[-122.381575,47.52073],[-122.381858,47.513751],[-122.390738,47.513814],[-122.390491,47.512118],[-122.391813,47.513804],[-122.39586529922,47.513767291645195],[-122.396538,47.51522],[-122.398805,47.517437],[-122.39521,47.520123],[-122.393938,47.52482],[-122.401104,47.529908],[-122.40063631785502,47.530503533080896],[-122.398676444139,47.5329991802749],[-122.396729,47.535479],[-122.399438,47.54582],[-122.398338,47.55012],[-122.402035002003,47.556732546304296],[-122.398693,47.557501]]]}},{\"type\":\"Feature\",\"properties\":{\"ZCTA5CE10\":\"98144\",\"AFFGEOID10\":\"8600000US98144\",\"GEOID10\":\"98144\",\"ALAND10\":8812564.0,\"AWATER10\":4545367.0},\"geometry\":{\"type\":\"Polygon\",\"coordinates\":[[[-122.32054,47.592244],[-122.319253,47.595823],[-122.317257,47.595819],[-122.317194,47.600264],[-122.316967,47.600851],[-122.308965,47.600837],[-122.308968,47.599999],[-122.307662,47.599997],[-122.307659,47.601674],[-122.304344,47.600829],[-122.303741,47.601667],[-122.299973,47.601661],[-122.299987,47.600865],[-122.29677,47.601654],[-122.267635,47.601521],[-122.268141,47.589314],[-122.262134,47.575921],[-122.262258,47.575662],[-122.276635,47.570762],[-122.277683,47.570024],[-122.282872,47.570679],[-122.282871,47.56976],[-122.290701,47.569769],[-122.292075,47.570186],[-122.29554,47.56986],[-122.29682,47.571624],[-122.296812,47.571975],[-122.299139,47.572547],[-122.299136,47.569578],[-122.301778,47.57095],[-122.301748,47.571923],[-122.311409,47.571901],[-122.313416,47.57106],[-122.313446,47.568993],[-122.315379,47.569046],[-122.316418,47.570166],[-122.319606,47.57001],[-122.319995,47.568601],[-122.320091,47.572433],[-122.319896,47.575963],[-122.318966,47.579208],[-122.32006,47.586087],[-122.317303,47.583705],[-122.317995,47.58638],[-122.317282,47.589986],[-122.320344,47.59129],[-122.32054,47.592244]]]}},{\"type\":\"Feature\",\"properties\":{\"ZCTA5CE10\":\"98109\",\"AFFGEOID10\":\"8600000US98109\",\"GEOID10\":\"98109\",\"ALAND10\":5178198.0,\"AWATER10\":1091119.0},\"geometry\":{\"type\":\"Polygon\",\"coordinates\":[[[-122.360539,47.65292],[-122.354463,47.649932],[-122.34704,47.646709],[-122.338338,47.63952],[-122.337538,47.63972],[-122.329691,47.639759],[-122.330437,47.63622],[-122.327937,47.63512],[-122.327437,47.63362],[-122.330437,47.63432],[-122.326956,47.632469],[-122.324057,47.632256],[-122.328269,47.62815],[-122.328298,47.61848],[-122.329872,47.618432],[-122.334304,47.618529],[-122.352841,47.61859],[-122.353833,47.617698],[-122.357363,47.618608],[-122.358037,47.622112],[-122.356731,47.622107],[-122.356691,47.627191],[-122.357997,47.627194],[-122.3579,47.631308],[-122.358297,47.635954],[-122.356957,47.635954],[-122.356914,47.639594],[-122.358252,47.639595],[-122.35824,47.641431],[-122.356901,47.641432],[-122.356868,47.64689],[-122.357681,47.650379],[-122.357228,47.650374],[-122.360756,47.651778],[-122.360539,47.65292]]]}},{\"type\":\"Feature\",\"properties\":{\"ZCTA5CE10\":\"98195\",\"AFFGEOID10\":\"8600000US98195\",\"GEOID10\":\"98195\",\"ALAND10\":180879.0,\"AWATER10\":52419.0},\"geometry\":{\"type\":\"Polygon\",\"coordinates\":[[[-122.312206,47.652846],[-122.304644,47.649039],[-122.304698,47.647415],[-122.310437,47.64712],[-122.312412,47.647196],[-122.312206,47.652846]]]}},{\"type\":\"Feature\",\"properties\":{\"ZCTA5CE10\":\"98199\",\"AFFGEOID10\":\"8600000US98199\",\"GEOID10\":\"98199\",\"ALAND10\":10848073.0,\"AWATER10\":3887509.0},\"geometry\":{\"type\":\"Polygon\",\"coordinates\":[[[-122.436941,47.661719],[-122.425506,47.664709],[-122.42269,47.666614],[-122.41584,47.670622],[-122.409185,47.671743],[-122.40928356791801,47.6726728586078],[-122.406673,47.670744],[-122.403623,47.666714],[-122.393682,47.66368],[-122.392511,47.664015],[-122.39122,47.663839],[-122.387155,47.662714],[-122.384078,47.660838],[-122.382403,47.659159],[-122.38259,47.655568],[-122.380606,47.653994],[-122.384618,47.653977],[-122.381992,47.650518],[-122.382014,47.648459],[-122.380217,47.648463],[-122.380507,47.640804],[-122.380442,47.636126],[-122.379074,47.633442],[-122.387606,47.633474],[-122.391159,47.632323],[-122.389634312385,47.6306239135639],[-122.391835,47.629953],[-122.3954,47.630594],[-122.40424,47.63392],[-122.414645,47.639766],[-122.418271,47.644445],[-122.41784,47.648419],[-122.421366639946,47.652948537554494],[-122.421367,47.652949],[-122.429841,47.658919],[-122.436941,47.661719]]]}},{\"type\":\"Feature\",\"properties\":{\"ZCTA5CE10\":\"98101\",\"AFFGEOID10\":\"8600000US98101\",\"GEOID10\":\"98101\",\"ALAND10\":1344747.0,\"AWATER10\":271084.0},\"geometry\":{\"type\":\"Polygon\",\"coordinates\":[[[-122.344937,47.60912],[-122.334346,47.617464],[-122.334304,47.618529],[-122.329872,47.618432],[-122.328298,47.61848],[-122.327855,47.618495],[-122.327923,47.614056],[-122.326886,47.612957],[-122.323115,47.612157],[-122.323572,47.610979],[-122.333564,47.606799],[-122.334674,47.606336],[-122.339093,47.604486],[-122.339299,47.604544],[-122.340937,47.60502],[-122.341737,47.60522],[-122.34232527460901,47.6043015014773],[-122.34457421116402,47.608450673325194],[-122.344937,47.60912]]]}},{\"type\":\"Feature\",\"properties\":{\"ZCTA5CE10\":\"98102\",\"AFFGEOID10\":\"8600000US98102\",\"GEOID10\":\"98102\",\"ALAND10\":3332468.0,\"AWATER10\":695816.0},\"geometry\":{\"type\":\"Polygon\",\"coordinates\":[[[-122.337538,47.63972],[-122.326537,47.65032],[-122.322227,47.653024],[-122.319939,47.652826],[-122.313037,47.64722],[-122.312412,47.647196],[-122.310437,47.64712],[-122.31085,47.643123],[-122.313365,47.643077],[-122.313851,47.642204],[-122.314428,47.641661],[-122.313522,47.641047],[-122.313129,47.640004],[-122.313669,47.639678],[-122.315635,47.641555],[-122.317951,47.64257],[-122.317952,47.640849],[-122.316044,47.640738],[-122.316037,47.639557],[-122.315224,47.637238],[-122.31733,47.63724],[-122.317227,47.63606],[-122.313609,47.635984],[-122.312483,47.633764],[-122.313487,47.631806],[-122.316509,47.631822],[-122.318091,47.62988],[-122.318038,47.628439],[-122.314571,47.628415],[-122.315687,47.624259],[-122.315606,47.618776],[-122.320856,47.618738],[-122.324011,47.618507],[-122.324259,47.619573],[-122.327855,47.618495],[-122.328298,47.61848],[-122.328269,47.62815],[-122.324057,47.632256],[-122.326956,47.632469],[-122.330437,47.63432],[-122.327437,47.63362],[-122.327937,47.63512],[-122.330437,47.63622],[-122.329691,47.639759],[-122.337538,47.63972]]]}},{\"type\":\"Feature\",\"properties\":{\"ZCTA5CE10\":\"98121\",\"AFFGEOID10\":\"8600000US98121\",\"GEOID10\":\"98121\",\"ALAND10\":1141210.0,\"AWATER10\":546001.0},\"geometry\":{\"type\":\"Polygon\",\"coordinates\":[[[-122.362298457347,47.6190119407141],[-122.359864,47.618585],[-122.357363,47.618608],[-122.353833,47.617698],[-122.352841,47.61859],[-122.334304,47.618529],[-122.334346,47.617464],[-122.344937,47.60912],[-122.34493864896001,47.6091208760351],[-122.353093,47.613453],[-122.358397718168,47.6166563838936],[-122.361025797991,47.6182434142144],[-122.361823642306,47.6187252120307],[-122.362298457347,47.6190119407141]]]}},{\"type\":\"Feature\",\"properties\":{\"ZCTA5CE10\":\"98154\",\"AFFGEOID10\":\"8600000US98154\",\"GEOID10\":\"98154\",\"ALAND10\":9147.0,\"AWATER10\":0.0},\"geometry\":{\"type\":\"Polygon\",\"coordinates\":[[[-122.333564,47.606799],[-122.332911,47.606086],[-122.334674,47.606336],[-122.333564,47.606799]]]}},{\"type\":\"Feature\",\"properties\":{\"ZCTA5CE10\":\"98164\",\"AFFGEOID10\":\"8600000US98164\",\"GEOID10\":\"98164\",\"ALAND10\":9165.0,\"AWATER10\":0.0},\"geometry\":{\"type\":\"Polygon\",\"coordinates\":[[[-122.332911,47.606086],[-122.3318,47.606551],[-122.331148,47.605837],[-122.332258,47.605372],[-122.332911,47.606086]]]}},{\"type\":\"Feature\",\"properties\":{\"ZCTA5CE10\":\"98116\",\"AFFGEOID10\":\"8600000US98116\",\"GEOID10\":\"98116\",\"ALAND10\":7657205.0,\"AWATER10\":1880414.0},\"geometry\":{\"type\":\"Polygon\",\"coordinates\":[[[-122.415048884331,47.578512845274005],[-122.401839,47.58392],[-122.396054939085,47.5885635963121],[-122.39149995535901,47.5922204571123],[-122.391366,47.592328],[-122.388801922298,47.59438557075129],[-122.387139,47.59572],[-122.381738,47.59392],[-122.381175,47.590356],[-122.382029,47.588771],[-122.379983,47.587983],[-122.37907,47.584903],[-122.382251,47.581161],[-122.381237,47.581186],[-122.380806,47.575591],[-122.380858,47.570204],[-122.380088,47.568365],[-122.38154,47.566411],[-122.38155,47.56468],[-122.380092,47.564679],[-122.380094,47.562871],[-122.381455,47.562872],[-122.381459,47.559252],[-122.380199,47.559231],[-122.380204,47.557451],[-122.381464,47.557458],[-122.398693,47.557501],[-122.402035002003,47.556732546304296],[-122.402364,47.557321],[-122.404188461982,47.5595966916306],[-122.409739,47.56652],[-122.409839,47.56892],[-122.421139,47.57602],[-122.415048884331,47.578512845274005]]]}},{\"type\":\"Feature\",\"properties\":{\"ZCTA5CE10\":\"98126\",\"AFFGEOID10\":\"8600000US98126\",\"GEOID10\":\"98126\",\"ALAND10\":7961316.0,\"AWATER10\":1777438.0},\"geometry\":{\"type\":\"Polygon\",\"coordinates\":[[[-122.382251,47.581161],[-122.37907,47.584903],[-122.379983,47.587983],[-122.382029,47.588771],[-122.381175,47.590356],[-122.375421,47.585181],[-122.37400329157401,47.5846159673687],[-122.370167,47.583087],[-122.368538,47.584881],[-122.362125,47.583802],[-122.36149225132101,47.584228741607895],[-122.36204,47.582227],[-122.367605,47.582138],[-122.372872,47.581296],[-122.372517,47.578693],[-122.371458,47.576811],[-122.370705,47.57175],[-122.362121,47.57142],[-122.36225,47.57016],[-122.364358,47.569634],[-122.365431,47.568343],[-122.365461,47.564724],[-122.371966,47.564697],[-122.3732,47.562239],[-122.376049,47.562045],[-122.376238,47.558655],[-122.375474,47.557923],[-122.375142,47.553776],[-122.36842,47.553783],[-122.368478,47.550017],[-122.365581,47.55001],[-122.36573,47.539878],[-122.368921,47.540387],[-122.366838,47.538494],[-122.367475,47.537938],[-122.366458,47.535527],[-122.364475,47.535521],[-122.364157,47.533697],[-122.365818,47.533701],[-122.36584,47.531879],[-122.367189,47.531883],[-122.367206,47.528279],[-122.371248,47.528281],[-122.371254,47.526473],[-122.369908,47.526475],[-122.369914,47.524668],[-122.364529,47.524682],[-122.365849,47.521692],[-122.365915,47.517361],[-122.367695,47.517381],[-122.367216,47.513916],[-122.368442,47.512299],[-122.371,47.51229],[-122.371104,47.513705],[-122.376743,47.513723],[-122.378222,47.514298],[-122.381858,47.513751],[-122.381575,47.52073],[-122.380735,47.5229],[-122.382081,47.522915],[-122.381172,47.541204],[-122.381857,47.546605],[-122.381717,47.550223],[-122.380372,47.550202],[-122.380783,47.555636],[-122.381528,47.555628],[-122.381464,47.557458],[-122.380204,47.557451],[-122.380199,47.559231],[-122.381459,47.559252],[-122.381455,47.562872],[-122.380094,47.562871],[-122.380092,47.564679],[-122.38155,47.56468],[-122.38154,47.566411],[-122.380088,47.568365],[-122.380858,47.570204],[-122.380806,47.575591],[-122.381237,47.581186],[-122.382251,47.581161]]]}},{\"type\":\"Feature\",\"properties\":{\"ZCTA5CE10\":\"98107\",\"AFFGEOID10\":\"8600000US98107\",\"GEOID10\":\"98107\",\"ALAND10\":5678076.0,\"AWATER10\":730151.0},\"geometry\":{\"type\":\"Polygon\",\"coordinates\":[[[-122.40961916965901,47.6758388194588],[-122.406325,47.675823],[-122.405395,47.6769],[-122.405052,47.675163],[-122.403497,47.675817],[-122.398367,47.675862],[-122.392958,47.675904],[-122.392991,47.675204],[-122.39011,47.675243],[-122.390105,47.675927],[-122.384741,47.675966],[-122.384741,47.675285],[-122.382125,47.675283],[-122.382129,47.675984],[-122.378882,47.675993],[-122.378882,47.675279],[-122.376212,47.675278],[-122.376117,47.675992],[-122.357441,47.675997],[-122.357718,47.670645],[-122.356538,47.670293],[-122.357385,47.666356],[-122.357193,47.654149],[-122.357666,47.652129],[-122.359398,47.652676],[-122.354463,47.649932],[-122.360539,47.65292],[-122.367339,47.65642],[-122.376027,47.659319],[-122.380401,47.660075],[-122.38744,47.66322],[-122.39122,47.663839],[-122.392511,47.664015],[-122.393682,47.66368],[-122.403623,47.666714],[-122.406673,47.670744],[-122.40928356791801,47.6726728586078],[-122.40944244395,47.674171644930205],[-122.40960180560701,47.675675012469796],[-122.40961916965901,47.6758388194588]]]}},{\"type\":\"Feature\",\"properties\":{\"ZCTA5CE10\":\"98119\",\"AFFGEOID10\":\"8600000US98119\",\"GEOID10\":\"98119\",\"ALAND10\":6312656.0,\"AWATER10\":1591192.0},\"geometry\":{\"type\":\"Polygon\",\"coordinates\":[[[-122.38744,47.66322],[-122.380401,47.660075],[-122.376027,47.659319],[-122.367339,47.65642],[-122.360539,47.65292],[-122.360756,47.651778],[-122.357228,47.650374],[-122.357681,47.650379],[-122.356868,47.64689],[-122.356901,47.641432],[-122.35824,47.641431],[-122.358252,47.639595],[-122.356914,47.639594],[-122.356957,47.635954],[-122.358297,47.635954],[-122.3579,47.631308],[-122.357997,47.627194],[-122.356691,47.627191],[-122.356731,47.622107],[-122.358037,47.622112],[-122.357363,47.618608],[-122.359864,47.618585],[-122.362298457347,47.6190119407141],[-122.364501,47.620342],[-122.369231622255,47.6243788310131],[-122.370174,47.625183],[-122.377939,47.62652],[-122.383739,47.62632],[-122.383991,47.631875],[-122.38602669506301,47.6317209312818],[-122.386039,47.63172],[-122.389634312385,47.6306239135639],[-122.391159,47.632323],[-122.387606,47.633474],[-122.379074,47.633442],[-122.380442,47.636126],[-122.380507,47.640804],[-122.380217,47.648463],[-122.382014,47.648459],[-122.381992,47.650518],[-122.384618,47.653977],[-122.380606,47.653994],[-122.38259,47.655568],[-122.382403,47.659159],[-122.384078,47.660838],[-122.387155,47.662714],[-122.39122,47.663839],[-122.38744,47.66322]]]}},{\"type\":\"Feature\",\"properties\":{\"ZCTA5CE10\":\"98133\",\"AFFGEOID10\":\"8600000US98133\",\"GEOID10\":\"98133\",\"ALAND10\":18376215.0,\"AWATER10\":187304.0},\"geometry\":{\"type\":\"Polygon\",\"coordinates\":[[[-122.369564,47.75281],[-122.36504,47.754219],[-122.364439,47.755975],[-122.361166,47.755952],[-122.361142,47.753705],[-122.358371,47.751444],[-122.356927,47.753979],[-122.357042,47.7555],[-122.358467,47.755597],[-122.358419,47.764981],[-122.357496,47.766846],[-122.358502,47.76686],[-122.358531,47.770486],[-122.357526,47.771092],[-122.357289,47.775468],[-122.358265,47.775485],[-122.358667,47.777766],[-122.356209,47.777766],[-122.335323,47.77777],[-122.329939,47.77762],[-122.330248,47.763252],[-122.330405,47.760214],[-122.329497,47.757752],[-122.330546,47.753294],[-122.329088,47.749736],[-122.328967,47.747373],[-122.329705,47.743234],[-122.328966,47.741367],[-122.329883,47.741142],[-122.329049,47.739856],[-122.328881,47.734093],[-122.328873,47.728624],[-122.33025,47.727263],[-122.32887,47.726802],[-122.328969,47.719522],[-122.328181,47.712312],[-122.329584,47.709975],[-122.329289,47.701432],[-122.329963,47.701439],[-122.330551,47.70319],[-122.333904,47.703218],[-122.334296,47.702395],[-122.33505,47.701394],[-122.347346,47.701436],[-122.348405,47.700867],[-122.350041,47.701444],[-122.358076,47.701472],[-122.355424,47.702184],[-122.355439,47.703633],[-122.360754,47.703666],[-122.36076,47.704361],[-122.357903,47.704365],[-122.35815,47.708727],[-122.356816,47.708719],[-122.357729,47.710645],[-122.357474,47.71598],[-122.35825,47.721432],[-122.356884,47.721424],[-122.35825,47.725062],[-122.358252,47.73232],[-122.359169,47.734136],[-122.355572,47.734129],[-122.355634,47.741393],[-122.358858,47.741414],[-122.358892,47.745041],[-122.355661,47.745038],[-122.357804,47.746287],[-122.362501,47.747195],[-122.364044,47.748422],[-122.367288,47.749108],[-122.368772,47.750509],[-122.370936,47.750934],[-122.369564,47.75281]]]}},{\"type\":\"Feature\",\"properties\":{\"ZCTA5CE10\":\"98108\",\"AFFGEOID10\":\"8600000US98108\",\"GEOID10\":\"98108\",\"ALAND10\":19391826.0,\"AWATER10\":964752.0},\"geometry\":{\"type\":\"Polygon\",\"coordinates\":[[[-122.342737,47.55622],[-122.338131,47.555743],[-122.338248,47.549855],[-122.335166,47.550094],[-122.336952,47.553438],[-122.335307,47.553441],[-122.335287,47.555692],[-122.329533,47.555651],[-122.329376,47.567144],[-122.326734,47.566846],[-122.326765,47.569422],[-122.325984,47.57062],[-122.324054,47.569814],[-122.321352,47.569833],[-122.320834,47.567206],[-122.320091,47.572433],[-122.319995,47.568601],[-122.319606,47.57001],[-122.316418,47.570166],[-122.315379,47.569046],[-122.313446,47.568993],[-122.313416,47.57106],[-122.311409,47.571901],[-122.301748,47.571923],[-122.301778,47.57095],[-122.299136,47.569578],[-122.299139,47.572547],[-122.296812,47.571975],[-122.29682,47.571624],[-122.29554,47.56986],[-122.292075,47.570186],[-122.291665,47.564417],[-122.292433,47.564432],[-122.291016,47.560762],[-122.293365,47.560813],[-122.29149,47.557863],[-122.291522,47.544379],[-122.29277,47.544245],[-122.29279,47.54265],[-122.291011,47.541329],[-122.293314,47.541319],[-122.293313,47.540318],[-122.290596,47.540724],[-122.291519,47.538867],[-122.296084,47.538956],[-122.293096,47.536972],[-122.291364,47.537019],[-122.291625,47.535699],[-122.289183,47.533058],[-122.290793,47.533066],[-122.292261,47.527047],[-122.293174,47.529289],[-122.294458,47.530309],[-122.296106,47.529972],[-122.293634,47.524422],[-122.291268,47.524382],[-122.291325,47.511627],[-122.293146,47.510822],[-122.294756,47.510695],[-122.299481,47.512201],[-122.303951,47.512837],[-122.307264,47.512828],[-122.311297,47.515648],[-122.310826,47.513376],[-122.314722,47.513813],[-122.334005,47.513865],[-122.33704,47.513893],[-122.337485,47.517258],[-122.332538,47.517232],[-122.333866,47.519824],[-122.33436,47.520818],[-122.334818,47.525424],[-122.333742,47.526661],[-122.334698,47.530153],[-122.335081,47.539185],[-122.337091,47.539772],[-122.33626,47.542129],[-122.334942,47.542826],[-122.338436,47.546222],[-122.342737,47.55622]]]}},{\"type\":\"Feature\",\"properties\":{\"ZCTA5CE10\":\"98178\",\"AFFGEOID10\":\"8600000US98178\",\"GEOID10\":\"98178\",\"ALAND10\":12554856.0,\"AWATER10\":2636151.0},\"geometry\":{\"type\":\"Polygon\",\"coordinates\":[[[-122.283739,47.510063],[-122.278544,47.509813],[-122.278686,47.512082],[-122.275158,47.511292],[-122.270061,47.510963],[-122.270062,47.510807],[-122.267621,47.510818],[-122.26761,47.511827],[-122.264731,47.511815],[-122.264747,47.509638],[-122.262086,47.509686],[-122.262066,47.51188],[-122.259403,47.51012],[-122.259387,47.511682],[-122.252345,47.511644],[-122.251424,47.51272],[-122.249424,47.511137],[-122.247874,47.508878],[-122.248354,47.511589],[-122.250515,47.513251],[-122.23807,47.521323],[-122.233233,47.518421],[-122.225394,47.521368],[-122.216608,47.501321],[-122.219133,47.501021],[-122.219578,47.497755],[-122.220944,47.497966],[-122.222297,47.496886],[-122.221973,47.495307],[-122.219622,47.495255],[-122.219959,47.493425],[-122.222927,47.493487],[-122.223013,47.490887],[-122.227586,47.490877],[-122.227565,47.48938],[-122.225325,47.488895],[-122.225573,47.48719],[-122.227555,47.48701],[-122.22763,47.484564],[-122.224831,47.483298],[-122.221642,47.483379],[-122.219817,47.48118],[-122.231168,47.482707],[-122.232744,47.479735],[-122.235754,47.480961],[-122.242793,47.481274],[-122.24559,47.482058],[-122.245819,47.479881],[-122.249707,47.479875],[-122.253378,47.479396],[-122.254532,47.479926],[-122.258235,47.484154],[-122.259227,47.48416],[-122.257793,47.482983],[-122.253596,47.477545],[-122.250906,47.474913],[-122.251569,47.474808],[-122.255056,47.477022],[-122.258528,47.477467],[-122.258157,47.47876],[-122.255725,47.478951],[-122.256573,47.480694],[-122.259892,47.481255],[-122.261145,47.482172],[-122.259149,47.483599],[-122.261054,47.484628],[-122.263083,47.484686],[-122.267513,47.482361],[-122.268586,47.483983],[-122.267135,47.485729],[-122.265235,47.486734],[-122.266075,47.488833],[-122.267835,47.489244],[-122.270075,47.488694],[-122.271222,47.490541],[-122.27335,47.491444],[-122.28014,47.490201],[-122.279493,47.492348],[-122.279767,47.495188],[-122.27882,47.50008],[-122.2778,47.501266],[-122.271056,47.495655],[-122.270304,47.495648],[-122.270294,47.496354],[-122.277895,47.503539],[-122.282607,47.507739],[-122.283739,47.510063]]]}},{\"type\":\"Feature\",\"properties\":{\"ZCTA5CE10\":\"98105\",\"AFFGEOID10\":\"8600000US98105\",\"GEOID10\":\"98105\",\"ALAND10\":10680923.0,\"AWATER10\":6443695.0},\"geometry\":{\"type\":\"Polygon\",\"coordinates\":[[[-122.331366,47.650707],[-122.329085,47.652452],[-122.327904,47.65365],[-122.328317,47.657782],[-122.328296,47.666006],[-122.329541,47.667902],[-122.328267,47.667903],[-122.328225,47.671567],[-122.325521,47.671548],[-122.325495,47.67226],[-122.318995,47.672211],[-122.317365,47.672267],[-122.313015,47.671203],[-122.311907,47.672104],[-122.311919,47.673977],[-122.310412,47.673973],[-122.306511,47.67262],[-122.306499,47.670672],[-122.304131,47.670099],[-122.303846,47.667921],[-122.301074,47.668522],[-122.301088,47.670656],[-122.302959,47.672103],[-122.29264,47.672146],[-122.292643,47.670322],[-122.291433,47.670321],[-122.291431,47.672146],[-122.279496,47.672146],[-122.274673,47.673274],[-122.275116,47.671776],[-122.273846,47.672132],[-122.256306,47.672068],[-122.253986,47.674473],[-122.251244,47.673683],[-122.231435,47.66412],[-122.238035,47.65922],[-122.255735,47.64712],[-122.285036,47.64752],[-122.300269,47.647366],[-122.304698,47.647415],[-122.304644,47.649039],[-122.312206,47.652846],[-122.312412,47.647196],[-122.313037,47.64722],[-122.319939,47.652826],[-122.322227,47.653024],[-122.326537,47.65032],[-122.32685,47.653615],[-122.327874,47.653087],[-122.330372,47.650944],[-122.331366,47.650707]]]}},{\"type\":\"Feature\",\"properties\":{\"ZCTA5CE10\":\"98155\",\"AFFGEOID10\":\"8600000US98155\",\"GEOID10\":\"98155\",\"ALAND10\":19604370.0,\"AWATER10\":1713431.0},\"geometry\":{\"type\":\"Polygon\",\"coordinates\":[[[-122.329497,47.757752],[-122.330405,47.760214],[-122.330248,47.763252],[-122.329939,47.77762],[-122.327304,47.777652],[-122.315248,47.777619],[-122.31409,47.777449],[-122.28704,47.777242],[-122.279854,47.777019],[-122.270957,47.777019],[-122.269446,47.773725],[-122.269713,47.770482],[-122.269083,47.76912],[-122.267495,47.768509],[-122.270517,47.768551],[-122.270493,47.761161],[-122.270734,47.756709],[-122.26908,47.75735],[-122.26699,47.752125],[-122.274137,47.74502],[-122.276137,47.73972],[-122.273537,47.73702],[-122.269937,47.73412],[-122.269808,47.733477],[-122.323589,47.734052],[-122.328881,47.734093],[-122.329049,47.739856],[-122.329883,47.741142],[-122.328966,47.741367],[-122.329705,47.743234],[-122.328967,47.747373],[-122.329088,47.749736],[-122.330546,47.753294],[-122.329497,47.757752]]]}},{\"type\":\"Feature\",\"properties\":{\"ZCTA5CE10\":\"98177\",\"AFFGEOID10\":\"8600000US98177\",\"GEOID10\":\"98177\",\"ALAND10\":14760890.0,\"AWATER10\":3562125.0},\"geometry\":{\"type\":\"Polygon\",\"coordinates\":[[[-122.395203501864,47.7779219307649],[-122.358667,47.777766],[-122.358265,47.775485],[-122.357289,47.775468],[-122.357526,47.771092],[-122.358531,47.770486],[-122.358502,47.76686],[-122.357496,47.766846],[-122.358419,47.764981],[-122.358467,47.755597],[-122.357042,47.7555],[-122.356927,47.753979],[-122.358371,47.751444],[-122.361142,47.753705],[-122.361166,47.755952],[-122.364439,47.755975],[-122.36504,47.754219],[-122.369564,47.75281],[-122.370936,47.750934],[-122.368772,47.750509],[-122.367288,47.749108],[-122.364044,47.748422],[-122.362501,47.747195],[-122.357804,47.746287],[-122.355661,47.745038],[-122.358892,47.745041],[-122.358858,47.741414],[-122.355634,47.741393],[-122.355572,47.734129],[-122.359169,47.734136],[-122.358252,47.73232],[-122.35825,47.725062],[-122.356884,47.721424],[-122.35825,47.721432],[-122.357474,47.71598],[-122.357729,47.710645],[-122.356816,47.708719],[-122.35815,47.708727],[-122.357903,47.704365],[-122.36076,47.704361],[-122.360754,47.703666],[-122.355439,47.703633],[-122.355424,47.702184],[-122.358076,47.701472],[-122.362424,47.701537],[-122.36472,47.70038],[-122.364727,47.701505],[-122.378489,47.701579],[-122.381349,47.701041],[-122.383167,47.701712],[-122.385292,47.701172],[-122.387557,47.701545],[-122.393248,47.701602],[-122.385655,47.704542],[-122.38044,47.709119],[-122.381139,47.712059],[-122.37644,47.716519],[-122.376284,47.72259],[-122.37314,47.729219],[-122.37479445039901,47.733920290333295],[-122.376385,47.73844],[-122.382675,47.74783],[-122.380241,47.758519],[-122.387742,47.764519],[-122.388969,47.766939],[-122.394442,47.772219],[-122.393623,47.773876],[-122.39435510929,47.7770931067692],[-122.395203501864,47.7779219307649]]]}},{\"type\":\"Feature\",\"properties\":{\"ZCTA5CE10\":\"98103\",\"AFFGEOID10\":\"8600000US98103\",\"GEOID10\":\"98103\",\"ALAND10\":12005478.0,\"AWATER10\":1705646.0},\"geometry\":{\"type\":\"Polygon\",\"coordinates\":[[[-122.357666,47.652129],[-122.357193,47.654149],[-122.357385,47.666356],[-122.356538,47.670293],[-122.357718,47.670645],[-122.357441,47.675997],[-122.357416,47.681799],[-122.358002,47.692432],[-122.357398,47.697842],[-122.358076,47.701472],[-122.350041,47.701444],[-122.348405,47.700867],[-122.347346,47.701436],[-122.33505,47.701394],[-122.334296,47.702395],[-122.333904,47.703218],[-122.330551,47.70319],[-122.329963,47.701439],[-122.329033,47.693527],[-122.329075,47.691141],[-122.329136,47.690368],[-122.328137,47.688463],[-122.326291,47.686799],[-122.328334,47.686848],[-122.3283,47.683239],[-122.329586,47.68264],[-122.326441,47.681003],[-122.325713,47.679718],[-122.329465,47.677558],[-122.329612,47.675948],[-122.328156,47.675933],[-122.328214,47.67228],[-122.328225,47.671567],[-122.328267,47.667903],[-122.329541,47.667902],[-122.328296,47.666006],[-122.328317,47.657782],[-122.327904,47.65365],[-122.329085,47.652452],[-122.331366,47.650707],[-122.330372,47.650944],[-122.327874,47.653087],[-122.32685,47.653615],[-122.326537,47.65032],[-122.337538,47.63972],[-122.338338,47.63952],[-122.34704,47.646709],[-122.354463,47.649932],[-122.359398,47.652676],[-122.357666,47.652129]]]}},{\"type\":\"Feature\",\"properties\":{\"ZCTA5CE10\":\"98104\",\"AFFGEOID10\":\"8600000US98104\",\"GEOID10\":\"98104\",\"ALAND10\":2007030.0,\"AWATER10\":252657.0},\"geometry\":{\"type\":\"Polygon\",\"coordinates\":[[[-122.341737,47.60522],[-122.340937,47.60502],[-122.339299,47.604544],[-122.339093,47.604486],[-122.334674,47.606336],[-122.332911,47.606086],[-122.333564,47.606799],[-122.323572,47.610979],[-122.323115,47.612157],[-122.321812,47.610728],[-122.320762,47.611167],[-122.32076,47.610182],[-122.323378,47.609087],[-122.322726,47.608373],[-122.321337,47.60902],[-122.320951,47.608114],[-122.322074,47.607659],[-122.321423,47.606946],[-122.320754,47.607217],[-122.320739,47.601699],[-122.316967,47.600851],[-122.317194,47.600264],[-122.317257,47.595819],[-122.319253,47.595823],[-122.327718,47.59581],[-122.32817,47.597581],[-122.329022,47.597594],[-122.329051,47.592403],[-122.333259,47.592408],[-122.333277,47.595275],[-122.33551,47.5978],[-122.335557,47.599205],[-122.337237,47.59922],[-122.339513,47.599113],[-122.34232527460901,47.6043015014773],[-122.341737,47.60522]],[[-122.335588,47.60398],[-122.334479,47.604445],[-122.335131,47.605158],[-122.33624,47.604693],[-122.335588,47.60398]],[[-122.332911,47.606086],[-122.332258,47.605372],[-122.331148,47.605837],[-122.3318,47.606551],[-122.332911,47.606086]]]}},{\"type\":\"Feature\",\"properties\":{\"ZCTA5CE10\":\"98112\",\"AFFGEOID10\":\"8600000US98112\",\"GEOID10\":\"98112\",\"ALAND10\":8185289.0,\"AWATER10\":3836278.0},\"geometry\":{\"type\":\"Polygon\",\"coordinates\":[[[-122.318091,47.62988],[-122.316509,47.631822],[-122.313487,47.631806],[-122.312483,47.633764],[-122.313609,47.635984],[-122.317227,47.63606],[-122.31733,47.63724],[-122.315224,47.637238],[-122.316037,47.639557],[-122.316044,47.640738],[-122.317952,47.640849],[-122.317951,47.64257],[-122.315635,47.641555],[-122.313669,47.639678],[-122.313129,47.640004],[-122.313522,47.641047],[-122.314428,47.641661],[-122.313851,47.642204],[-122.313365,47.643077],[-122.31085,47.643123],[-122.310437,47.64712],[-122.304698,47.647415],[-122.300269,47.647366],[-122.285036,47.64752],[-122.255735,47.64712],[-122.259125,47.640299],[-122.263535,47.62432],[-122.263823,47.624468],[-122.280229,47.626243],[-122.281653,47.624703],[-122.281661,47.623073],[-122.279569,47.62122],[-122.279699,47.616352],[-122.282581,47.616459],[-122.282574,47.617569],[-122.285709,47.618356],[-122.290645,47.618326],[-122.291264,47.618869],[-122.302554,47.618932],[-122.304771,47.618496],[-122.315606,47.618776],[-122.315687,47.624259],[-122.314571,47.628415],[-122.318038,47.628439],[-122.318091,47.62988]]]}},{\"type\":\"Feature\",\"properties\":{\"ZCTA5CE10\":\"98115\",\"AFFGEOID10\":\"8600000US98115\",\"GEOID10\":\"98115\",\"ALAND10\":17063515.0,\"AWATER10\":5456625.0},\"geometry\":{\"type\":\"Polygon\",\"coordinates\":[[[-122.329289,47.701432],[-122.328527,47.703178],[-122.327255,47.703169],[-122.327287,47.701353],[-122.299716,47.701154],[-122.290683,47.700675],[-122.285377,47.701067],[-122.285351,47.700154],[-122.283121,47.700084],[-122.284323,47.70264],[-122.281818,47.701075],[-122.273603,47.701115],[-122.274339,47.70288],[-122.273215,47.702844],[-122.272327,47.701213],[-122.271418,47.697345],[-122.254136,47.69782],[-122.243935,47.69222],[-122.231835,47.69012],[-122.226235,47.66692],[-122.231435,47.66412],[-122.251244,47.673683],[-122.253986,47.674473],[-122.256306,47.672068],[-122.273846,47.672132],[-122.275116,47.671776],[-122.274673,47.673274],[-122.279496,47.672146],[-122.291431,47.672146],[-122.291433,47.670321],[-122.292643,47.670322],[-122.29264,47.672146],[-122.302959,47.672103],[-122.301088,47.670656],[-122.301074,47.668522],[-122.303846,47.667921],[-122.304131,47.670099],[-122.306499,47.670672],[-122.306511,47.67262],[-122.310412,47.673973],[-122.311919,47.673977],[-122.311907,47.672104],[-122.313015,47.671203],[-122.317365,47.672267],[-122.318995,47.672211],[-122.325495,47.67226],[-122.325521,47.671548],[-122.328225,47.671567],[-122.328214,47.67228],[-122.328156,47.675933],[-122.329612,47.675948],[-122.329465,47.677558],[-122.325713,47.679718],[-122.326441,47.681003],[-122.329586,47.68264],[-122.3283,47.683239],[-122.328334,47.686848],[-122.326291,47.686799],[-122.328137,47.688463],[-122.329136,47.690368],[-122.329075,47.691141],[-122.329033,47.693527],[-122.329963,47.701439],[-122.329289,47.701432]]]}},{\"type\":\"Feature\",\"properties\":{\"ZCTA5CE10\":\"98118\",\"AFFGEOID10\":\"8600000US98118\",\"GEOID10\":\"98118\",\"ALAND10\":16183284.0,\"AWATER10\":6832355.0},\"geometry\":{\"type\":\"Polygon\",\"coordinates\":[[[-122.294458,47.530309],[-122.293174,47.529289],[-122.292261,47.527047],[-122.290793,47.533066],[-122.289183,47.533058],[-122.291625,47.535699],[-122.291364,47.537019],[-122.293096,47.536972],[-122.296084,47.538956],[-122.291519,47.538867],[-122.290596,47.540724],[-122.293313,47.540318],[-122.293314,47.541319],[-122.291011,47.541329],[-122.29279,47.54265],[-122.29277,47.544245],[-122.291522,47.544379],[-122.29149,47.557863],[-122.293365,47.560813],[-122.291016,47.560762],[-122.292433,47.564432],[-122.291665,47.564417],[-122.292075,47.570186],[-122.290701,47.569769],[-122.282871,47.56976],[-122.282872,47.570679],[-122.277683,47.570024],[-122.276635,47.570762],[-122.262258,47.575662],[-122.262134,47.575921],[-122.252034,47.563921],[-122.250034,47.562521],[-122.244034,47.559621],[-122.240934,47.555421],[-122.242834,47.549321],[-122.249734,47.538921],[-122.249333,47.531821],[-122.240733,47.522921],[-122.23807,47.521323],[-122.250515,47.513251],[-122.248354,47.511589],[-122.247874,47.508878],[-122.249424,47.511137],[-122.251424,47.51272],[-122.252345,47.511644],[-122.259387,47.511682],[-122.259403,47.51012],[-122.262066,47.51188],[-122.262086,47.509686],[-122.264747,47.509638],[-122.264731,47.511815],[-122.26761,47.511827],[-122.267621,47.510818],[-122.270062,47.510807],[-122.270061,47.510963],[-122.275158,47.511292],[-122.278686,47.512082],[-122.278544,47.509813],[-122.283739,47.510063],[-122.291369,47.510153],[-122.291325,47.511627],[-122.291268,47.524382],[-122.293634,47.524422],[-122.296106,47.529972],[-122.294458,47.530309]]]}},{\"type\":\"Feature\",\"properties\":{\"ZCTA5CE10\":\"98122\",\"AFFGEOID10\":\"8600000US98122\",\"GEOID10\":\"98122\",\"ALAND10\":5992903.0,\"AWATER10\":3155568.0},\"geometry\":{\"type\":\"Polygon\",\"coordinates\":[[[-122.327855,47.618495],[-122.324259,47.619573],[-122.324011,47.618507],[-122.320856,47.618738],[-122.315606,47.618776],[-122.304771,47.618496],[-122.302554,47.618932],[-122.291264,47.618869],[-122.290645,47.618326],[-122.285709,47.618356],[-122.282574,47.617569],[-122.282581,47.616459],[-122.279699,47.616352],[-122.279569,47.62122],[-122.281661,47.623073],[-122.281653,47.624703],[-122.280229,47.626243],[-122.263823,47.624468],[-122.263535,47.62432],[-122.265735,47.61362],[-122.267635,47.601521],[-122.29677,47.601654],[-122.299987,47.600865],[-122.299973,47.601661],[-122.303741,47.601667],[-122.304344,47.600829],[-122.307659,47.601674],[-122.307662,47.599997],[-122.308968,47.599999],[-122.308965,47.600837],[-122.316967,47.600851],[-122.320739,47.601699],[-122.320754,47.607217],[-122.321423,47.606946],[-122.322074,47.607659],[-122.320951,47.608114],[-122.321337,47.60902],[-122.322726,47.608373],[-122.323378,47.609087],[-122.32076,47.610182],[-122.320762,47.611167],[-122.321812,47.610728],[-122.323115,47.612157],[-122.326886,47.612957],[-122.327923,47.614056],[-122.327855,47.618495]]]}},{\"type\":\"Feature\",\"properties\":{\"ZCTA5CE10\":\"98125\",\"AFFGEOID10\":\"8600000US98125\",\"GEOID10\":\"98125\",\"ALAND10\":13960901.0,\"AWATER10\":3976391.0},\"geometry\":{\"type\":\"Polygon\",\"coordinates\":[[[-122.328873,47.728624],[-122.328881,47.734093],[-122.323589,47.734052],[-122.269808,47.733477],[-122.267136,47.71882],[-122.261136,47.70802],[-122.254136,47.69782],[-122.271418,47.697345],[-122.272327,47.701213],[-122.273215,47.702844],[-122.274339,47.70288],[-122.273603,47.701115],[-122.281818,47.701075],[-122.284323,47.70264],[-122.283121,47.700084],[-122.285351,47.700154],[-122.285377,47.701067],[-122.290683,47.700675],[-122.299716,47.701154],[-122.327287,47.701353],[-122.327255,47.703169],[-122.328527,47.703178],[-122.329289,47.701432],[-122.329584,47.709975],[-122.328181,47.712312],[-122.328969,47.719522],[-122.32887,47.726802],[-122.33025,47.727263],[-122.328873,47.728624]]]}},{\"type\":\"Feature\",\"properties\":{\"ZCTA5CE10\":\"98134\",\"AFFGEOID10\":\"8600000US98134\",\"GEOID10\":\"98134\",\"ALAND10\":8738344.0,\"AWATER10\":1888145.0},\"geometry\":{\"type\":\"Polygon\",\"coordinates\":[[[-122.35999805842201,47.5852364628422],[-122.358559,47.586207],[-122.355945,47.587329],[-122.35397698011401,47.5879176812251],[-122.35287427019401,47.588247527804],[-122.34975140471701,47.5891816506185],[-122.34644390187,47.5901710028308],[-122.346168092661,47.5902535038788],[-122.342937,47.59122],[-122.339513,47.599113],[-122.337237,47.59922],[-122.335557,47.599205],[-122.33551,47.5978],[-122.333277,47.595275],[-122.333259,47.592408],[-122.329051,47.592403],[-122.329022,47.597594],[-122.32817,47.597581],[-122.327718,47.59581],[-122.319253,47.595823],[-122.32054,47.592244],[-122.320344,47.59129],[-122.317282,47.589986],[-122.317995,47.58638],[-122.317303,47.583705],[-122.32006,47.586087],[-122.318966,47.579208],[-122.319896,47.575963],[-122.320091,47.572433],[-122.320834,47.567206],[-122.321352,47.569833],[-122.324054,47.569814],[-122.325984,47.57062],[-122.326765,47.569422],[-122.326734,47.566846],[-122.329376,47.567144],[-122.329533,47.555651],[-122.335287,47.555692],[-122.335307,47.553441],[-122.336952,47.553438],[-122.335166,47.550094],[-122.338248,47.549855],[-122.338131,47.555743],[-122.342737,47.55622],[-122.347237,47.56302],[-122.347438,47.565328],[-122.345055,47.571087],[-122.346195,47.570971],[-122.346472,47.569277],[-122.348809,47.569418],[-122.352689,47.571379],[-122.354431,47.571377],[-122.359612,47.574771],[-122.35999805842201,47.5852364628422]]]}},{\"type\":\"Feature\",\"properties\":{\"ZCTA5CE10\":\"98146\",\"AFFGEOID10\":\"8600000US98146\",\"GEOID10\":\"98146\",\"ALAND10\":12044646.0,\"AWATER10\":1761080.0},\"geometry\":{\"type\":\"Polygon\",\"coordinates\":[[[-122.39586529922,47.513767291645195],[-122.391813,47.513804],[-122.390491,47.512118],[-122.390738,47.513814],[-122.381858,47.513751],[-122.378222,47.514298],[-122.376743,47.513723],[-122.371104,47.513705],[-122.371,47.51229],[-122.368442,47.512299],[-122.367216,47.513916],[-122.365875,47.513703],[-122.344822,47.51383],[-122.34336,47.513256],[-122.339706,47.51381],[-122.339961,47.51588],[-122.337485,47.517258],[-122.33704,47.513893],[-122.334005,47.513865],[-122.333624,47.510381],[-122.334706,47.510364],[-122.334741,47.508558],[-122.333628,47.508556],[-122.333654,47.503154],[-122.335293,47.503121],[-122.335332,47.50126],[-122.333676,47.501292],[-122.333735,47.496333],[-122.334843,47.496325],[-122.334843,47.494598],[-122.333756,47.494598],[-122.333825,47.481278],[-122.36153972265001,47.4811137842126],[-122.361336,47.481421],[-122.361649,47.485275],[-122.365236,47.48842],[-122.368542,47.492341],[-122.375652,47.496434],[-122.386637,47.50222],[-122.393974,47.509683],[-122.39586529922,47.513767291645195]]]}},{\"type\":\"Feature\",\"properties\":{\"ZCTA5CE10\":\"98106\",\"AFFGEOID10\":\"8600000US98106\",\"GEOID10\":\"98106\",\"ALAND10\":14240142.0,\"AWATER10\":841739.0},\"geometry\":{\"type\":\"Polygon\",\"coordinates\":[[[-122.376049,47.562045],[-122.3732,47.562239],[-122.371966,47.564697],[-122.365461,47.564724],[-122.365431,47.568343],[-122.364358,47.569634],[-122.36225,47.57016],[-122.362121,47.57142],[-122.370705,47.57175],[-122.371458,47.576811],[-122.372517,47.578693],[-122.372872,47.581296],[-122.367605,47.582138],[-122.36204,47.582227],[-122.36149225132101,47.584228741607895],[-122.35999805842201,47.5852364628422],[-122.359612,47.574771],[-122.354431,47.571377],[-122.352689,47.571379],[-122.348809,47.569418],[-122.346472,47.569277],[-122.346195,47.570971],[-122.345055,47.571087],[-122.347438,47.565328],[-122.347237,47.56302],[-122.342737,47.55622],[-122.338436,47.546222],[-122.334942,47.542826],[-122.33626,47.542129],[-122.337091,47.539772],[-122.335081,47.539185],[-122.334698,47.530153],[-122.333742,47.526661],[-122.334818,47.525424],[-122.33436,47.520818],[-122.333866,47.519824],[-122.332538,47.517232],[-122.337485,47.517258],[-122.339961,47.51588],[-122.339706,47.51381],[-122.34336,47.513256],[-122.344822,47.51383],[-122.365875,47.513703],[-122.367216,47.513916],[-122.367695,47.517381],[-122.365915,47.517361],[-122.365849,47.521692],[-122.364529,47.524682],[-122.369914,47.524668],[-122.369908,47.526475],[-122.371254,47.526473],[-122.371248,47.528281],[-122.367206,47.528279],[-122.367189,47.531883],[-122.36584,47.531879],[-122.365818,47.533701],[-122.364157,47.533697],[-122.364475,47.535521],[-122.366458,47.535527],[-122.367475,47.537938],[-122.366838,47.538494],[-122.368921,47.540387],[-122.36573,47.539878],[-122.365581,47.55001],[-122.368478,47.550017],[-122.36842,47.553783],[-122.375142,47.553776],[-122.375474,47.557923],[-122.376238,47.558655],[-122.376049,47.562045]]]}},{\"type\":\"Feature\",\"properties\":{\"ZCTA5CE10\":\"98117\",\"AFFGEOID10\":\"8600000US98117\",\"GEOID10\":\"98117\",\"ALAND10\":9982911.0,\"AWATER10\":1800762.0},\"geometry\":{\"type\":\"Polygon\",\"coordinates\":[[[-122.40966,47.676224],[-122.40929164986402,47.6770127431448],[-122.407841,47.680119],[-122.405010987115,47.6866987799584],[-122.403841,47.689419],[-122.406241,47.693019],[-122.403441,47.697719],[-122.393248,47.701602],[-122.387557,47.701545],[-122.385292,47.701172],[-122.383167,47.701712],[-122.381349,47.701041],[-122.378489,47.701579],[-122.364727,47.701505],[-122.36472,47.70038],[-122.362424,47.701537],[-122.358076,47.701472],[-122.357398,47.697842],[-122.358002,47.692432],[-122.357416,47.681799],[-122.357441,47.675997],[-122.376117,47.675992],[-122.376212,47.675278],[-122.378882,47.675279],[-122.378882,47.675993],[-122.382129,47.675984],[-122.382125,47.675283],[-122.384741,47.675285],[-122.384741,47.675966],[-122.390105,47.675927],[-122.39011,47.675243],[-122.392991,47.675204],[-122.392958,47.675904],[-122.398367,47.675862],[-122.403497,47.675817],[-122.405052,47.675163],[-122.405395,47.6769],[-122.406325,47.675823],[-122.40961916965901,47.6758388194588],[-122.40966,47.676224]]]}},{\"type\":\"Feature\",\"properties\":{\"ZCTA5CE10\":\"98168\",\"AFFGEOID10\":\"8600000US98168\",\"GEOID10\":\"98168\",\"ALAND10\":23033989.0,\"AWATER10\":425762.0},\"geometry\":{\"type\":\"Polygon\",\"coordinates\":[[[-122.335293,47.503121],[-122.333654,47.503154],[-122.333628,47.508556],[-122.334741,47.508558],[-122.334706,47.510364],[-122.333624,47.510381],[-122.334005,47.513865],[-122.314722,47.513813],[-122.310826,47.513376],[-122.311297,47.515648],[-122.307264,47.512828],[-122.303951,47.512837],[-122.299481,47.512201],[-122.294756,47.510695],[-122.293146,47.510822],[-122.291325,47.511627],[-122.291369,47.510153],[-122.283739,47.510063],[-122.282607,47.507739],[-122.277895,47.503539],[-122.270294,47.496354],[-122.270304,47.495648],[-122.271056,47.495655],[-122.2778,47.501266],[-122.27882,47.50008],[-122.279767,47.495188],[-122.279493,47.492348],[-122.28014,47.490201],[-122.27335,47.491444],[-122.271222,47.490541],[-122.270075,47.488694],[-122.267835,47.489244],[-122.266075,47.488833],[-122.265235,47.486734],[-122.267135,47.485729],[-122.268586,47.483983],[-122.267513,47.482361],[-122.263083,47.484686],[-122.261054,47.484628],[-122.259149,47.483599],[-122.261145,47.482172],[-122.259892,47.481255],[-122.256573,47.480694],[-122.255725,47.478951],[-122.258157,47.47876],[-122.258528,47.477467],[-122.255056,47.477022],[-122.251569,47.474808],[-122.254149,47.475122],[-122.253225,47.473534],[-122.255816,47.473633],[-122.253946,47.471425],[-122.252916,47.468877],[-122.254886,47.468904],[-122.256964,47.467797],[-122.256937,47.469604],[-122.259553,47.469637],[-122.259556,47.471379],[-122.262513,47.471374],[-122.262542,47.469267],[-122.266779,47.469073],[-122.266696,47.467586],[-122.264768,47.46564],[-122.262057,47.464512],[-122.266056,47.464932],[-122.265205,47.463075],[-122.267192,47.465],[-122.268147,47.467713],[-122.27059,47.467688],[-122.27056,47.472233],[-122.273733,47.472264],[-122.273675,47.470457],[-122.275858,47.470475],[-122.276966,47.469552],[-122.280672,47.469601],[-122.280691,47.468721],[-122.302416,47.468769],[-122.302422,47.466475],[-122.306248,47.468364],[-122.312384,47.470094],[-122.323442,47.469909],[-122.323441,47.468741],[-122.329339,47.468717],[-122.329395,47.470059],[-122.332283,47.470438],[-122.333869,47.46869],[-122.333843,47.474125],[-122.335173,47.479469],[-122.333825,47.481278],[-122.333756,47.494598],[-122.334843,47.494598],[-122.334843,47.496325],[-122.333735,47.496333],[-122.333676,47.501292],[-122.335332,47.50126],[-122.335293,47.503121]]]}}]},\"hovertemplate\":\"ZIP Code=%{location}\\u003cbr\\u003eZIP Code Count=%{z}\\u003cextra\\u003e\\u003c\\u002fextra\\u003e\",\"locations\":[98117,98117,98121,98107,98115,98125,98103,98126,98112,98117,98126,98199,98115,98116,98136,98115,98103,98117,98144,98125,98125,98125,98104,98133,98119,98105,98133,98125,98126,98199,98199,98125,98144,98105,98119,98115,98136,98144,98117,98136,98121,98125,98109,98125,98125,98136,98126,98199,98112,98115,98125,98103,98121,98117,98155,98125,98103,98102,98101,98104,98106,98105,98102,98101,98121,98106,98136,98199,98118,98102,98122,98108,98109,98112,98115,98121,98115,98136,98101,98103,98115,98103,98133,98125,98116,98106,98133,98119,98125,98118,98177,98103,98103,98109,98103,98104,98115,98116,98199,98115,98199,98121,98103,98136,98133,98144,98126,98117,98105,98126,98107,98104,98105,98116,98115,98125,98125,98125,98103,98116,98118,98117,98122,98109,98144,98103,98119,98118,98103,98105,98107,98177,98115,98106,98117,98112,98115,98106,98104,98122,98109,98199,98102,98199,98115,98199,98126,98118,98122,98125,98106,98115,98103,98136,98136,98112,98103,98103,98122,98105,98112,98103,98107,98119,98104,98121,98118,98122,98107,98102,98144,98126,98117,98116,98106,98117,98103,98119,98117,98122,98117,98102,98125,98122,98103,98177,98115,98108,98107,98107,98122,98103,98103,98106,98199,98115,98108,98199,98103,98119,98121,98115,98107,98144,98144,98121,98106,98199,98125,98101,98115,98125,98108,98103,98136,98119,98102,98144,98103,98126,98102,98117,98125,98136,98109,98125,98144,98125,98133,98115,98115,98126,98103,98118,98117,98107,98117,98105,98103,98199,98107,98122,98116,98115,98118,98126,98119,98122,98117,98121,98116,98199,98126,98121,98133,98106,98121,98112,98109,98107,98136,98105,98118,98119,98107,98121,98115,98126,98101,98122,98112,98115,98109,98112,98107,98121,98118,98105,98118,98118,98109,98126,98133,98115,98107,98126,98119,98133,98103,98116,98117,98101,98144,98102,98106,98126,98107,98115,98199,98115,98118,98117,98121,98125,98107,98105,98103,98105,98115,98117,98115,98103,98118,98105,98109,98102,98109,98117,98109,98103,98125,98122,98199,98103,98122,98116,98125,98177,98126,98103,98133,98103,98122,98116,98125,98118,98102,98126,98115,98117,98121,98105,98125,98102,98108,98199,98133,98103,98117,98115,98105,98118,98118,98101,98125,98117,98107,98115,98119,98133,98119,98121,98105,98122,98122,98125,98199,98112,98116,98125,98106,98125,98107,98117,98115,98144,98107,98105,98103,98118,98107,98177,98116,98108,98121,98119,98115,98115,98115,98125,98125,98121,98144,98105,98107,98104,98116,98133,98103,98103,98115,98119,98102,98125,98117,98121,98122,98115,98136,98109,98102,98115,98105,98117,98103,98109,98107,98118,98105,98122,98133,98117,98104,98116,98112,98119,98105,98107,98118,98122,98105,98106,98112,98125,98122,98105,98125,98102,98125,98115,98144,98118,98133,98109,98122,98119,98104,98112,98121,98115,98116,98118,98125,98119,98199,98103,98112,98122,98109,98126,98112,98106,98126,98122,98108,98102,98119,98102,98122,98136,98112,98115,98117,98117,98102,98103,98121,98136,98146,98121,98122,98105,98105,98144,98107,98195,98125,98126,98122,98122,98112,98109,98133,98119,98106,98133,98117,98125,98118,98103,98146,98116,98107,98103,98105,98103,98102,98121,98133,98118,98115,98104,98117,98106,98117,98122,98104,98112,98107,98118,98122,98144,98126,98104,98107,98136,98115,98104,98105,98136,98144,98101,98103,98117,98102,98109,98119,98109,98117,98122,98103,98117,98108,98103,98119,98117,98121,98115,98108,98133,98126,98122,98122,98144,98122,98133,98136,98177,98144,98115,98109,98125,98115,98177,98103,98199,98103,98136,98118,98116,98122,98103,98101,98144,98122,98122,98199,98118,98108,98118,98115,98122,98106,98126,98106,98118,98101,98103,98109,98103,98116,98108,98199,98115,98115,98122,98116,98102,98115,98122,98119,98125,98107,98115,98105,98115,98103,98104,98109,98125,98109,98108,98144,98144,98144,98121,98125,98125,98109,98146,98117,98112,98107,98133,98112,98115,98144,98106,98103,98107,98126,98144,98117,98122,98103,98119,98122,98122,98117,98101,98106,98116,98104,98115,98115,98115,98146,98118,98121,98103,98117,98106,98126,98118,98144,98102,98146,98122,98103,98121,98115,98115,98199,98109,98102,98104,98103,98199,98125,98103,98121,98109,98115,98119,98126,98122,98116,98122,98107,98125,98112,98112,98102,98107,98118,98106,98115,98103,98102,98118,98199,98106,98115,98125,98107,98115,98103,98178,98122,98133,98199,98117,98104,98199,98133,98115,98103,98199,98105,98115,98103,98115,98119,98199,98126,98133,98125,98116,98115,98102,98102,98115,98103,98115,98115,98108,98103,98117,98107,98103,98115,98102,98118,98126,98115,98105,98102,98136,98107,98115,98125,98122,98146,98118,98117,98108,98103,98116,98115,98109,98199,98133,98118,98101,98116,98119,98146,98105,98125,98117,98144,98178,98108,98121,98144,98133,98105,98117,98116,98116,98178,98122,98121,98104,98103,98177,98103,98125,98117,98125,98125,98105,98101,98109,98116,98125,98199,98109,98106,98122,98125,98125,98102,98122,98136,98115,98126,98105,98107,98125,98144,98103,98104,98199,98199,98119,98112,98178,98144,98112,98112,98105,98117,98125,98199,98121,98144,98116,98102,98112,98126,98125,98116,98177,98103,98112,98103,98199,98115,98125,98116,98122,98105,98136,98133,98118,98112,98136,98136,98105,98117,98103,98136,98105,98118,98118,98112,98115,98115,98102,98119,98103,98115,98115,98122,98109,98117,98133,98133,98126,98105,98103,98107,98125,98122,98115,98122,98105,98105,98102,98105,98126,98121,98106,98105,98105,98107,98125,98125,98105,98125,98119,98125,98101,98115,98199,98102,98105,98115,98117,98125,98103,98112,98117,98109,98107,98118,98125,98102,98101,98103,98105,98117,98199,98106,98116,98116,98136,98177,98105,98144,98102,98117,98115,98126,98125,98103,98115,98146,98126,98108,98125,98199,98106,98125,98146,98103,98126,98105,98177],\"name\":\"\",\"z\":[54,54,33,39,85,72,78,36,30,54,36,39,85,33,26,85,78,54,32,72,72,72,19,29,30,49,29,72,36,39,39,72,32,49,30,85,26,32,54,26,33,72,31,72,72,26,36,39,30,85,72,78,33,54,1,72,78,36,15,19,27,49,36,15,33,27,26,39,40,36,55,16,31,30,85,33,85,26,15,78,85,78,29,72,33,27,29,30,72,40,11,78,78,31,78,19,85,33,39,85,39,33,78,26,29,32,36,54,49,36,39,19,49,33,85,72,72,72,78,33,40,54,55,31,32,78,30,40,78,49,39,11,85,27,54,30,85,27,19,55,31,39,36,39,85,39,36,40,55,72,27,85,78,26,26,30,78,78,55,49,30,78,39,30,19,33,40,55,39,36,32,36,54,33,27,54,78,30,54,55,54,36,72,55,78,11,85,16,39,39,55,78,78,27,39,85,16,39,78,30,33,85,39,32,32,33,27,39,72,15,85,72,16,78,26,30,36,32,78,36,36,54,72,26,31,72,32,72,29,85,85,36,78,40,54,39,54,49,78,39,39,55,33,85,40,36,30,55,54,33,33,39,36,33,29,27,33,30,31,39,26,49,40,30,39,33,85,36,15,55,30,85,31,30,39,33,40,49,40,40,31,36,29,85,39,36,30,29,78,33,54,15,32,36,27,36,39,85,39,85,40,54,33,72,39,49,78,49,85,54,85,78,40,49,31,36,31,54,31,78,72,55,39,78,55,33,72,11,36,78,29,78,55,33,72,40,36,36,85,54,33,49,72,36,16,39,29,78,54,85,49,40,40,15,72,54,39,85,30,29,30,33,49,55,55,72,39,30,33,72,27,72,39,54,85,32,39,49,78,40,39,11,33,16,33,30,85,85,85,72,72,33,32,49,39,19,33,29,78,78,85,30,36,72,54,33,55,85,26,31,36,85,49,54,78,31,39,40,49,55,29,54,19,33,30,30,49,39,40,55,49,27,30,72,55,49,72,36,72,85,32,40,29,31,55,30,19,30,33,85,33,40,72,30,39,78,30,55,31,36,30,27,36,55,16,36,30,36,55,26,30,85,54,54,36,78,33,26,9,33,55,49,49,32,39,1,72,36,55,55,30,31,29,30,27,29,54,72,40,78,9,33,39,78,49,78,36,33,29,40,85,19,54,27,54,55,19,30,39,40,55,32,36,19,39,26,85,19,49,26,32,15,78,54,36,31,30,31,54,55,78,54,16,78,30,54,33,85,16,29,36,55,55,32,55,29,26,11,32,85,31,72,85,11,78,39,78,26,40,33,55,78,15,32,55,55,39,40,16,40,85,55,27,36,27,40,15,78,31,78,33,16,39,85,85,55,33,36,85,55,30,72,39,85,49,85,78,19,31,72,31,16,32,32,32,33,72,72,31,9,54,30,39,29,30,85,32,27,78,39,36,32,54,55,78,30,55,55,54,15,27,33,19,85,85,85,9,40,33,78,54,27,36,40,32,36,9,55,78,33,85,85,39,31,36,19,78,39,72,78,33,31,85,30,36,55,33,55,39,72,30,30,36,39,40,27,85,78,36,40,39,27,85,72,39,85,78,4,55,29,39,54,19,39,29,85,78,39,49,85,78,85,30,39,36,29,72,33,85,36,36,85,78,85,85,16,78,54,39,78,85,36,40,36,85,49,36,26,39,85,72,55,9,40,54,16,78,33,85,31,39,29,40,15,33,30,9,49,72,54,32,4,16,33,32,29,49,54,33,33,4,55,33,19,78,11,78,72,54,72,72,49,15,31,33,72,39,31,27,55,72,72,36,55,26,85,36,49,39,72,32,78,19,39,39,30,30,4,32,30,30,49,54,72,39,33,32,33,36,30,36,72,33,11,78,30,78,39,85,72,33,55,49,26,29,40,30,26,26,49,54,78,26,49,40,40,30,85,85,36,30,78,85,85,55,31,54,29,29,36,49,78,39,72,55,85,55,49,49,36,49,36,33,27,49,49,39,72,72,49,72,30,72,15,85,39,36,49,85,54,72,78,30,54,31,39,40,72,36,15,78,49,54,39,27,33,33,26,11,49,32,36,54,85,36,72,78,85,9,36,16,72,39,27,72,9,78,36,49,11],\"type\":\"choropleth\"}],                        {\"template\":{\"data\":{\"histogram2dcontour\":[{\"type\":\"histogram2dcontour\",\"colorbar\":{\"outlinewidth\":0,\"ticks\":\"\"},\"colorscale\":[[0.0,\"#0d0887\"],[0.1111111111111111,\"#46039f\"],[0.2222222222222222,\"#7201a8\"],[0.3333333333333333,\"#9c179e\"],[0.4444444444444444,\"#bd3786\"],[0.5555555555555556,\"#d8576b\"],[0.6666666666666666,\"#ed7953\"],[0.7777777777777778,\"#fb9f3a\"],[0.8888888888888888,\"#fdca26\"],[1.0,\"#f0f921\"]]}],\"choropleth\":[{\"type\":\"choropleth\",\"colorbar\":{\"outlinewidth\":0,\"ticks\":\"\"}}],\"histogram2d\":[{\"type\":\"histogram2d\",\"colorbar\":{\"outlinewidth\":0,\"ticks\":\"\"},\"colorscale\":[[0.0,\"#0d0887\"],[0.1111111111111111,\"#46039f\"],[0.2222222222222222,\"#7201a8\"],[0.3333333333333333,\"#9c179e\"],[0.4444444444444444,\"#bd3786\"],[0.5555555555555556,\"#d8576b\"],[0.6666666666666666,\"#ed7953\"],[0.7777777777777778,\"#fb9f3a\"],[0.8888888888888888,\"#fdca26\"],[1.0,\"#f0f921\"]]}],\"heatmap\":[{\"type\":\"heatmap\",\"colorbar\":{\"outlinewidth\":0,\"ticks\":\"\"},\"colorscale\":[[0.0,\"#0d0887\"],[0.1111111111111111,\"#46039f\"],[0.2222222222222222,\"#7201a8\"],[0.3333333333333333,\"#9c179e\"],[0.4444444444444444,\"#bd3786\"],[0.5555555555555556,\"#d8576b\"],[0.6666666666666666,\"#ed7953\"],[0.7777777777777778,\"#fb9f3a\"],[0.8888888888888888,\"#fdca26\"],[1.0,\"#f0f921\"]]}],\"heatmapgl\":[{\"type\":\"heatmapgl\",\"colorbar\":{\"outlinewidth\":0,\"ticks\":\"\"},\"colorscale\":[[0.0,\"#0d0887\"],[0.1111111111111111,\"#46039f\"],[0.2222222222222222,\"#7201a8\"],[0.3333333333333333,\"#9c179e\"],[0.4444444444444444,\"#bd3786\"],[0.5555555555555556,\"#d8576b\"],[0.6666666666666666,\"#ed7953\"],[0.7777777777777778,\"#fb9f3a\"],[0.8888888888888888,\"#fdca26\"],[1.0,\"#f0f921\"]]}],\"contourcarpet\":[{\"type\":\"contourcarpet\",\"colorbar\":{\"outlinewidth\":0,\"ticks\":\"\"}}],\"contour\":[{\"type\":\"contour\",\"colorbar\":{\"outlinewidth\":0,\"ticks\":\"\"},\"colorscale\":[[0.0,\"#0d0887\"],[0.1111111111111111,\"#46039f\"],[0.2222222222222222,\"#7201a8\"],[0.3333333333333333,\"#9c179e\"],[0.4444444444444444,\"#bd3786\"],[0.5555555555555556,\"#d8576b\"],[0.6666666666666666,\"#ed7953\"],[0.7777777777777778,\"#fb9f3a\"],[0.8888888888888888,\"#fdca26\"],[1.0,\"#f0f921\"]]}],\"surface\":[{\"type\":\"surface\",\"colorbar\":{\"outlinewidth\":0,\"ticks\":\"\"},\"colorscale\":[[0.0,\"#0d0887\"],[0.1111111111111111,\"#46039f\"],[0.2222222222222222,\"#7201a8\"],[0.3333333333333333,\"#9c179e\"],[0.4444444444444444,\"#bd3786\"],[0.5555555555555556,\"#d8576b\"],[0.6666666666666666,\"#ed7953\"],[0.7777777777777778,\"#fb9f3a\"],[0.8888888888888888,\"#fdca26\"],[1.0,\"#f0f921\"]]}],\"mesh3d\":[{\"type\":\"mesh3d\",\"colorbar\":{\"outlinewidth\":0,\"ticks\":\"\"}}],\"scatter\":[{\"fillpattern\":{\"fillmode\":\"overlay\",\"size\":10,\"solidity\":0.2},\"type\":\"scatter\"}],\"parcoords\":[{\"type\":\"parcoords\",\"line\":{\"colorbar\":{\"outlinewidth\":0,\"ticks\":\"\"}}}],\"scatterpolargl\":[{\"type\":\"scatterpolargl\",\"marker\":{\"colorbar\":{\"outlinewidth\":0,\"ticks\":\"\"}}}],\"bar\":[{\"error_x\":{\"color\":\"#2a3f5f\"},\"error_y\":{\"color\":\"#2a3f5f\"},\"marker\":{\"line\":{\"color\":\"#E5ECF6\",\"width\":0.5},\"pattern\":{\"fillmode\":\"overlay\",\"size\":10,\"solidity\":0.2}},\"type\":\"bar\"}],\"scattergeo\":[{\"type\":\"scattergeo\",\"marker\":{\"colorbar\":{\"outlinewidth\":0,\"ticks\":\"\"}}}],\"scatterpolar\":[{\"type\":\"scatterpolar\",\"marker\":{\"colorbar\":{\"outlinewidth\":0,\"ticks\":\"\"}}}],\"histogram\":[{\"marker\":{\"pattern\":{\"fillmode\":\"overlay\",\"size\":10,\"solidity\":0.2}},\"type\":\"histogram\"}],\"scattergl\":[{\"type\":\"scattergl\",\"marker\":{\"colorbar\":{\"outlinewidth\":0,\"ticks\":\"\"}}}],\"scatter3d\":[{\"type\":\"scatter3d\",\"line\":{\"colorbar\":{\"outlinewidth\":0,\"ticks\":\"\"}},\"marker\":{\"colorbar\":{\"outlinewidth\":0,\"ticks\":\"\"}}}],\"scattermapbox\":[{\"type\":\"scattermapbox\",\"marker\":{\"colorbar\":{\"outlinewidth\":0,\"ticks\":\"\"}}}],\"scatterternary\":[{\"type\":\"scatterternary\",\"marker\":{\"colorbar\":{\"outlinewidth\":0,\"ticks\":\"\"}}}],\"scattercarpet\":[{\"type\":\"scattercarpet\",\"marker\":{\"colorbar\":{\"outlinewidth\":0,\"ticks\":\"\"}}}],\"carpet\":[{\"aaxis\":{\"endlinecolor\":\"#2a3f5f\",\"gridcolor\":\"white\",\"linecolor\":\"white\",\"minorgridcolor\":\"white\",\"startlinecolor\":\"#2a3f5f\"},\"baxis\":{\"endlinecolor\":\"#2a3f5f\",\"gridcolor\":\"white\",\"linecolor\":\"white\",\"minorgridcolor\":\"white\",\"startlinecolor\":\"#2a3f5f\"},\"type\":\"carpet\"}],\"table\":[{\"cells\":{\"fill\":{\"color\":\"#EBF0F8\"},\"line\":{\"color\":\"white\"}},\"header\":{\"fill\":{\"color\":\"#C8D4E3\"},\"line\":{\"color\":\"white\"}},\"type\":\"table\"}],\"barpolar\":[{\"marker\":{\"line\":{\"color\":\"#E5ECF6\",\"width\":0.5},\"pattern\":{\"fillmode\":\"overlay\",\"size\":10,\"solidity\":0.2}},\"type\":\"barpolar\"}],\"pie\":[{\"automargin\":true,\"type\":\"pie\"}]},\"layout\":{\"autotypenumbers\":\"strict\",\"colorway\":[\"#636efa\",\"#EF553B\",\"#00cc96\",\"#ab63fa\",\"#FFA15A\",\"#19d3f3\",\"#FF6692\",\"#B6E880\",\"#FF97FF\",\"#FECB52\"],\"font\":{\"color\":\"#2a3f5f\"},\"hovermode\":\"closest\",\"hoverlabel\":{\"align\":\"left\"},\"paper_bgcolor\":\"white\",\"plot_bgcolor\":\"#E5ECF6\",\"polar\":{\"bgcolor\":\"#E5ECF6\",\"angularaxis\":{\"gridcolor\":\"white\",\"linecolor\":\"white\",\"ticks\":\"\"},\"radialaxis\":{\"gridcolor\":\"white\",\"linecolor\":\"white\",\"ticks\":\"\"}},\"ternary\":{\"bgcolor\":\"#E5ECF6\",\"aaxis\":{\"gridcolor\":\"white\",\"linecolor\":\"white\",\"ticks\":\"\"},\"baxis\":{\"gridcolor\":\"white\",\"linecolor\":\"white\",\"ticks\":\"\"},\"caxis\":{\"gridcolor\":\"white\",\"linecolor\":\"white\",\"ticks\":\"\"}},\"coloraxis\":{\"colorbar\":{\"outlinewidth\":0,\"ticks\":\"\"}},\"colorscale\":{\"sequential\":[[0.0,\"#0d0887\"],[0.1111111111111111,\"#46039f\"],[0.2222222222222222,\"#7201a8\"],[0.3333333333333333,\"#9c179e\"],[0.4444444444444444,\"#bd3786\"],[0.5555555555555556,\"#d8576b\"],[0.6666666666666666,\"#ed7953\"],[0.7777777777777778,\"#fb9f3a\"],[0.8888888888888888,\"#fdca26\"],[1.0,\"#f0f921\"]],\"sequentialminus\":[[0.0,\"#0d0887\"],[0.1111111111111111,\"#46039f\"],[0.2222222222222222,\"#7201a8\"],[0.3333333333333333,\"#9c179e\"],[0.4444444444444444,\"#bd3786\"],[0.5555555555555556,\"#d8576b\"],[0.6666666666666666,\"#ed7953\"],[0.7777777777777778,\"#fb9f3a\"],[0.8888888888888888,\"#fdca26\"],[1.0,\"#f0f921\"]],\"diverging\":[[0,\"#8e0152\"],[0.1,\"#c51b7d\"],[0.2,\"#de77ae\"],[0.3,\"#f1b6da\"],[0.4,\"#fde0ef\"],[0.5,\"#f7f7f7\"],[0.6,\"#e6f5d0\"],[0.7,\"#b8e186\"],[0.8,\"#7fbc41\"],[0.9,\"#4d9221\"],[1,\"#276419\"]]},\"xaxis\":{\"gridcolor\":\"white\",\"linecolor\":\"white\",\"ticks\":\"\",\"title\":{\"standoff\":15},\"zerolinecolor\":\"white\",\"automargin\":true,\"zerolinewidth\":2},\"yaxis\":{\"gridcolor\":\"white\",\"linecolor\":\"white\",\"ticks\":\"\",\"title\":{\"standoff\":15},\"zerolinecolor\":\"white\",\"automargin\":true,\"zerolinewidth\":2},\"scene\":{\"xaxis\":{\"backgroundcolor\":\"#E5ECF6\",\"gridcolor\":\"white\",\"linecolor\":\"white\",\"showbackground\":true,\"ticks\":\"\",\"zerolinecolor\":\"white\",\"gridwidth\":2},\"yaxis\":{\"backgroundcolor\":\"#E5ECF6\",\"gridcolor\":\"white\",\"linecolor\":\"white\",\"showbackground\":true,\"ticks\":\"\",\"zerolinecolor\":\"white\",\"gridwidth\":2},\"zaxis\":{\"backgroundcolor\":\"#E5ECF6\",\"gridcolor\":\"white\",\"linecolor\":\"white\",\"showbackground\":true,\"ticks\":\"\",\"zerolinecolor\":\"white\",\"gridwidth\":2}},\"shapedefaults\":{\"line\":{\"color\":\"#2a3f5f\"}},\"annotationdefaults\":{\"arrowcolor\":\"#2a3f5f\",\"arrowhead\":0,\"arrowwidth\":1},\"geo\":{\"bgcolor\":\"white\",\"landcolor\":\"#E5ECF6\",\"subunitcolor\":\"white\",\"showland\":true,\"showlakes\":true,\"lakecolor\":\"white\"},\"title\":{\"x\":0.05},\"mapbox\":{\"style\":\"light\"}}},\"geo\":{\"domain\":{\"x\":[0.0,1.0],\"y\":[0.0,1.0]},\"projection\":{\"type\":\"mercator\"},\"center\":{},\"fitbounds\":\"locations\",\"visible\":false},\"coloraxis\":{\"colorbar\":{\"title\":{\"text\":\"ZIP Code Count\"}},\"colorscale\":[[0.0,\"rgb(247,251,255)\"],[0.125,\"rgb(222,235,247)\"],[0.25,\"rgb(198,219,239)\"],[0.375,\"rgb(158,202,225)\"],[0.5,\"rgb(107,174,214)\"],[0.625,\"rgb(66,146,198)\"],[0.75,\"rgb(33,113,181)\"],[0.875,\"rgb(8,81,156)\"],[1.0,\"rgb(8,48,107)\"]]},\"legend\":{\"tracegroupgap\":0},\"title\":{\"text\":\"Pet Registrations by ZIP Code\"}},                        {\"responsive\": true}                    ).then(function(){\n",
       "                            \n",
       "var gd = document.getElementById('0f39fbfc-6880-4fef-bbef-5cdd6bdfcb3f');\n",
       "var x = new MutationObserver(function (mutations, observer) {{\n",
       "        var display = window.getComputedStyle(gd).display;\n",
       "        if (!display || display === 'none') {{\n",
       "            console.log([gd, 'removed!']);\n",
       "            Plotly.purge(gd);\n",
       "            observer.disconnect();\n",
       "        }}\n",
       "}});\n",
       "\n",
       "// Listen for the removal of the full notebook cells\n",
       "var notebookContainer = gd.closest('#notebook-container');\n",
       "if (notebookContainer) {{\n",
       "    x.observe(notebookContainer, {childList: true});\n",
       "}}\n",
       "\n",
       "// Listen for the clearing of the current output cell\n",
       "var outputEl = gd.closest('.output');\n",
       "if (outputEl) {{\n",
       "    x.observe(outputEl, {childList: true});\n",
       "}}\n",
       "\n",
       "                        })                };                });            </script>        </div>"
      ]
     },
     "metadata": {},
     "output_type": "display_data"
    }
   ],
   "source": [
    "# Chloropeth of registrations by zip count + most popular animals per zip code\n",
    "\n",
    "fig = px.choropleth(data,\n",
    "                    geojson= seattle_zips_json,\n",
    "                    locations='ZIP Code',\n",
    "                    featureidkey=\"properties.ZCTA5CE10\",\n",
    "                    color='ZIP Code Count',\n",
    "                    color_continuous_scale=\"blues\",\n",
    "                    projection=\"mercator\",\n",
    "                    title=\"Pet Registrations by ZIP Code\",\n",
    "                    )\n",
    "\n",
    "fig.update_geos(fitbounds=\"locations\", visible=False)\n",
    "fig.show()"
   ]
  }
 ],
 "metadata": {
  "kaggle": {
   "accelerator": "none",
   "dataSources": [
    {
     "datasetId": 5761564,
     "sourceId": 9473720,
     "sourceType": "datasetVersion"
    }
   ],
   "dockerImageVersionId": 30775,
   "isGpuEnabled": false,
   "isInternetEnabled": true,
   "language": "python",
   "sourceType": "notebook"
  },
  "kernelspec": {
   "display_name": "Python 3",
   "language": "python",
   "name": "python3"
  },
  "language_info": {
   "codemirror_mode": {
    "name": "ipython",
    "version": 3
   },
   "file_extension": ".py",
   "mimetype": "text/x-python",
   "name": "python",
   "nbconvert_exporter": "python",
   "pygments_lexer": "ipython3",
   "version": "3.10.14"
  },
  "papermill": {
   "default_parameters": {},
   "duration": 9.334624,
   "end_time": "2024-11-04T00:22:45.999429",
   "environment_variables": {},
   "exception": null,
   "input_path": "__notebook__.ipynb",
   "output_path": "__notebook__.ipynb",
   "parameters": {},
   "start_time": "2024-11-04T00:22:36.664805",
   "version": "2.6.0"
  }
 },
 "nbformat": 4,
 "nbformat_minor": 5
}
